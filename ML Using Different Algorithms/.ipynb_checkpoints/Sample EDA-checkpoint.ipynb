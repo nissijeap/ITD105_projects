{
 "cells": [
  {
   "cell_type": "code",
   "execution_count": null,
   "id": "505b2b52",
   "metadata": {
    "scrolled": true
   },
   "outputs": [],
   "source": [
    "# Import necessary libraries\n",
    "import pandas as pd\n",
    "import matplotlib.pyplot as plt\n",
    "import seaborn as sns\n",
    "\n",
    "# 1. Load the Data - import the necessary libraries (e.g., Pandas) \n",
    "# to read your data from a file (e.g., CSV) or a database.\n",
    "\n",
    "df = pd.read_csv('D:/DataViz/BDA/pima-indians-diabetes.csv')\n"
   ]
  },
  {
   "cell_type": "code",
   "execution_count": null,
   "id": "7effe671",
   "metadata": {
    "scrolled": true
   },
   "outputs": [],
   "source": [
    "# 2. Basic Data Exploration - Check the first few rows of the dataset \n",
    "# to get an initial sense of the data's structure.\n",
    "\n",
    "df.head()\n"
   ]
  },
  {
   "cell_type": "code",
   "execution_count": null,
   "id": "c0828c10",
   "metadata": {
    "scrolled": true
   },
   "outputs": [],
   "source": [
    "# 3. Data Summary - Generate descriptive statistics for the data, including mean, median, \n",
    "# standard deviation, and quartiles, to understand the central tendency and spread of the data.\n",
    "\n",
    "df.describe()\n"
   ]
  },
  {
   "cell_type": "code",
   "execution_count": null,
   "id": "c618c2fe",
   "metadata": {
    "scrolled": true
   },
   "outputs": [],
   "source": [
    "#4. Data Information - check the data types of each column, \n",
    "# the number of non-null values, and memory usage.\n",
    "\n",
    "df.info()\n"
   ]
  },
  {
   "cell_type": "code",
   "execution_count": null,
   "id": "066fa360",
   "metadata": {
    "scrolled": true
   },
   "outputs": [],
   "source": [
    "# 5. Handling Missing Data - identify and handle missing values using techniques \n",
    "# like imputation or removal.\n",
    "\n",
    "missing_values = df.isnull().sum()\n",
    "print(\"\\nMissing Values:\")\n",
    "print(missing_values)\n",
    "\n",
    "df = df.fillna(df.mean())"
   ]
  },
  {
   "cell_type": "code",
   "execution_count": null,
   "id": "de4529f4",
   "metadata": {
    "scrolled": true
   },
   "outputs": [],
   "source": [
    "# 6. Feature Engineering (if needed) - is the process of creating new features or \n",
    "# modifying existing ones to improve the performance of machine learning "
   ]
  },
  {
   "cell_type": "code",
   "execution_count": null,
   "id": "60f69ef7",
   "metadata": {
    "scrolled": true
   },
   "outputs": [],
   "source": [
    "# 7. Data Visualization - Create visualizations to explore data distributions, relationships, and patterns. \n",
    "#Use libraries like Matplotlib and Seaborn.\n",
    "\n",
    "#a. Univariate plots focus on a single variable or feature at a time. \n",
    "#They are used to visualize the distribution and characteristics of individual variables in isolation.\n",
    "\n",
    "#Histogram \n",
    "df.hist('class')\n",
    "plt.show()"
   ]
  },
  {
   "cell_type": "code",
   "execution_count": null,
   "id": "e2c3b14f",
   "metadata": {
    "scrolled": true
   },
   "outputs": [],
   "source": [
    "# Density Plots\n",
    "df.plot(kind='density', subplots=True, layout=(3,3), sharex=False, figsize=(15,8))\n",
    "plt.show()"
   ]
  },
  {
   "cell_type": "code",
   "execution_count": null,
   "id": "bc2e5743",
   "metadata": {
    "scrolled": true
   },
   "outputs": [],
   "source": [
    "# Box and Whisker Plots\n",
    "df.plot(kind='box', subplots=True, layout=(3,3), sharex=False, sharey=False, figsize=(15,8))\n",
    "plt.show()"
   ]
  },
  {
   "cell_type": "code",
   "execution_count": null,
   "id": "249eb825",
   "metadata": {
    "scrolled": true
   },
   "outputs": [],
   "source": [
    "#Multivariate plots involve the simultaneous visualization of two or more variables to explore relationships, \n",
    "# correlations, and patterns among them.\n",
    "\n",
    "\n",
    "#method: {‘pearson’, ‘kendall’, ‘spearman’}\n",
    "correlations = df.corr(method='pearson') # correlation matrix\n",
    "\n",
    "# correlation matrix plot\n",
    "import seaborn as sns\n",
    "import numpy as np\n",
    "\n",
    "matrix = np.triu(correlations)\n",
    "f, ax = plt.subplots(figsize=(10, 8))\n",
    "ax = sns.heatmap(correlations, annot=True, vmin=-1, vmax=1, center=0, cmap='Spectral', mask=matrix)\n",
    "plt.show()"
   ]
  },
  {
   "cell_type": "code",
   "execution_count": null,
   "id": "8fcf5662",
   "metadata": {
    "scrolled": true
   },
   "outputs": [],
   "source": [
    "#Scatter Plot Matrix\n",
    "\n",
    "sns.set_theme()\n",
    "sns.pairplot(df, corner=True, hue='class')\n",
    "plt.show()"
   ]
  },
  {
   "cell_type": "code",
   "execution_count": null,
   "id": "7ff0dad1",
   "metadata": {
    "scrolled": true
   },
   "outputs": [],
   "source": [
    "# 8. Identifying and Handling Outliers (If needed)\n",
    "\n",
    "# 9. Summary and Insights"
   ]
  },
  {
   "cell_type": "code",
   "execution_count": null,
   "id": "100d2cd7",
   "metadata": {},
   "outputs": [],
   "source": []
  }
 ],
 "metadata": {
  "kernelspec": {
   "display_name": "Python 3 (ipykernel)",
   "language": "python",
   "name": "python3"
  },
  "language_info": {
   "codemirror_mode": {
    "name": "ipython",
    "version": 3
   },
   "file_extension": ".py",
   "mimetype": "text/x-python",
   "name": "python",
   "nbconvert_exporter": "python",
   "pygments_lexer": "ipython3",
   "version": "3.11.5"
  }
 },
 "nbformat": 4,
 "nbformat_minor": 5
}
