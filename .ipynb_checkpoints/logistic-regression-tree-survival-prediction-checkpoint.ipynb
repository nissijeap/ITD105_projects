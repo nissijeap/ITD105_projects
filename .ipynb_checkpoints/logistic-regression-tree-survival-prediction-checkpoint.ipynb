{
 "cells": [
  {
   "cell_type": "code",
   "execution_count": 1,
   "metadata": {
    "_cell_guid": "b1076dfc-b9ad-4769-8c92-a6c4dae69d19",
    "_uuid": "8f2839f25d086af736a60e9eeb907d3b93b6e0e5",
    "execution": {
     "iopub.execute_input": "2023-11-14T18:37:02.819901Z",
     "iopub.status.busy": "2023-11-14T18:37:02.819002Z",
     "iopub.status.idle": "2023-11-14T18:37:02.837609Z",
     "shell.execute_reply": "2023-11-14T18:37:02.836704Z",
     "shell.execute_reply.started": "2023-11-14T18:37:02.819869Z"
    }
   },
   "outputs": [],
   "source": [
    "import numpy as np # linear algebra\n",
    "import pandas as pd # data processing, CSV file I/O (e.g. pd.read_csv)\n",
    "import matplotlib.pyplot as plt\n",
    "import seaborn as sns\n",
    "from sklearn.linear_model import LogisticRegression\n",
    "from sklearn.model_selection import train_test_split\n",
    "from sklearn.preprocessing import OneHotEncoder \n",
    "from sklearn.metrics import classification_report, confusion_matrix\n",
    "\n",
    "import os\n",
    "for dirname, _, filenames in os.walk('/kaggle/input'):\n",
    "    for filename in filenames:\n",
    "        print(os.path.join(dirname, filename))"
   ]
  },
  {
   "cell_type": "code",
   "execution_count": 2,
   "metadata": {
    "execution": {
     "iopub.execute_input": "2023-11-14T18:37:02.839985Z",
     "iopub.status.busy": "2023-11-14T18:37:02.839475Z",
     "iopub.status.idle": "2023-11-14T18:37:02.860405Z",
     "shell.execute_reply": "2023-11-14T18:37:02.859711Z",
     "shell.execute_reply.started": "2023-11-14T18:37:02.839954Z"
    }
   },
   "outputs": [],
   "source": [
    "df = pd.read_csv('Tree_Data.csv')"
   ]
  },
  {
   "cell_type": "markdown",
   "metadata": {},
   "source": [
    "## About dataset\n",
    "\n",
    "Tree seedling functional traits mediate plant-soil feedback survival responses across a gradient of light availability.\n",
    "\n",
    "#### Methodology:\n",
    "\n",
    "(the following information provided by the authors of the experiment)\n",
    "\n",
    "We conducted a factorial blocked design field experiment, consisting of four tree species, seven soil sources (sterilized conspecific, live conspecific, and five heterospecific), and a gradient of forest understory light levels (low, medium, and high), for a total of 3,024 seedlings. We monitored seedling survival twice per week over one growing season, and we randomly selected subsets of seedlings to measure mycorrhizal colonization and phenolics, lignin, and NSC measurements at three weeks. We used Cox proportional hazards survival models to evaluate survival and linear mixed effects models to test how light availability and soil source influence traits. \n",
    "\n",
    "\n",
    "#### Detailed information about each column follows:\n",
    "\n",
    "No: Seedling unique ID number.  \n",
    "Plot: Number of the field plot the seedling was planted in. (1-18)  \n",
    "Subplot: Subplot within the main plot the seedling was planted in. Broken into 5 subplots (1 per corner, plus 1 in the middle). (A-E \n",
    "Species: Includes Acer saccharum, Prunus serotina, Quercus alba, and Quercus rubra  \n",
    "Light ISF: Light level quantified with HemiView software. Represents the amount of light reaching each subplot at a height of 1m.  \n",
    "Light Cat: Categorical light level created by splitting the range of Light_ISF values into three bins (low, med, high).  \n",
    "Core: Year the soil core was removed from the field.  \n",
    "Soil: Species from which the soil core was taken. Includes all species, plus Acer rubrum, Populus grandidentata, and a sterilized conspecific for each species.  \n",
    "Adult: Individual tree that soil was taken from. Up to 6 adults per species. Used as a random effect in analyses.  \n",
    "Sterile: Whether the soil was sterilized or not.  \n",
    "Conspecific: Whether the soil was conspecific, heterospecific, or sterilized conspecific.  \n",
    "Myco: Mycorrhizal type of the seedling species (AMF or EMF).  \n",
    "SoilMyco: Mycorrhizal type of the species culturing the soil (AMF or EMF).  \n",
    "PlantDate: The date that seedlings were planted in the field pots.  \n",
    "AMF: Percent arbuscular mycorrhizal fungi colonization on the fine roots of harvested seedlings.  \n",
    "EMF: Percent ectomycorrhizal fungi colonization on the root tips of harvested seedlings.  \n",
    "Phenolics: Calculated as nmol Gallic acid equivalents per mg dry extract (see manuscript for detailed methods)  \n",
    "NSC: Calculated as percent dry mass nonstructural carbohydrates (see manuscript for detailed methods)  \n",
    "Lignin: Calculated as percent dry mass lignin (see manuscript for detailed methods)  \n",
    "Census: The census number at which time the seedling died or was harvested.  \n",
    "Time: The number of days at which time the seedling died or was harvested.  \n",
    "<span style=\"color:green\">\n",
    "Event: Used for survival analysis to indicate status of each individual seedling at a given time (above)  \n",
    "    0 = harvested or experiment ended  \n",
    "    1 = dead  \n",
    "</span>\n",
    "Harvest: Indicates whether the seedling was harvested for trait measurement.  \n",
    "Alive: Indicates if the seedling was alive at the end of the second growing season. \"X\" in this field indicates alive status.\n",
    "#### Missing data is coded as NA."
   ]
  },
  {
   "cell_type": "markdown",
   "metadata": {},
   "source": [
    "# 1. Scoping"
   ]
  },
  {
   "cell_type": "markdown",
   "metadata": {},
   "source": [
    "The scope of this analysis is to predict tree survival on the basis of 3 factors (as chosen in the experiment): tree species, soil sources, and light levels.  \n",
    "      \n",
    "A second goal is to practise logistic regression. There might be other better options and approaches to predict survival,\n",
    "but since the scope is to learn, the above-mentioned algorithm has been chosen."
   ]
  },
  {
   "cell_type": "markdown",
   "metadata": {
    "execution": {
     "iopub.execute_input": "2023-11-12T12:13:06.567649Z",
     "iopub.status.busy": "2023-11-12T12:13:06.567262Z",
     "iopub.status.idle": "2023-11-12T12:13:06.573009Z",
     "shell.execute_reply": "2023-11-12T12:13:06.571957Z",
     "shell.execute_reply.started": "2023-11-12T12:13:06.56762Z"
    }
   },
   "source": [
    "# 2. EDA - Exploratory Data Analysis"
   ]
  },
  {
   "cell_type": "code",
   "execution_count": 3,
   "metadata": {
    "execution": {
     "iopub.execute_input": "2023-11-14T18:37:02.861856Z",
     "iopub.status.busy": "2023-11-14T18:37:02.861409Z",
     "iopub.status.idle": "2023-11-14T18:37:02.882878Z",
     "shell.execute_reply": "2023-11-14T18:37:02.88224Z",
     "shell.execute_reply.started": "2023-11-14T18:37:02.861826Z"
    }
   },
   "outputs": [
    {
     "data": {
      "text/html": [
       "<div>\n",
       "<style scoped>\n",
       "    .dataframe tbody tr th:only-of-type {\n",
       "        vertical-align: middle;\n",
       "    }\n",
       "\n",
       "    .dataframe tbody tr th {\n",
       "        vertical-align: top;\n",
       "    }\n",
       "\n",
       "    .dataframe thead th {\n",
       "        text-align: right;\n",
       "    }\n",
       "</style>\n",
       "<table border=\"1\" class=\"dataframe\">\n",
       "  <thead>\n",
       "    <tr style=\"text-align: right;\">\n",
       "      <th></th>\n",
       "      <th>No</th>\n",
       "      <th>Plot</th>\n",
       "      <th>Subplot</th>\n",
       "      <th>Species</th>\n",
       "      <th>Light_ISF</th>\n",
       "      <th>Light_Cat</th>\n",
       "      <th>Core</th>\n",
       "      <th>Soil</th>\n",
       "      <th>Adult</th>\n",
       "      <th>Sterile</th>\n",
       "      <th>...</th>\n",
       "      <th>AMF</th>\n",
       "      <th>EMF</th>\n",
       "      <th>Phenolics</th>\n",
       "      <th>Lignin</th>\n",
       "      <th>NSC</th>\n",
       "      <th>Census</th>\n",
       "      <th>Time</th>\n",
       "      <th>Event</th>\n",
       "      <th>Harvest</th>\n",
       "      <th>Alive</th>\n",
       "    </tr>\n",
       "  </thead>\n",
       "  <tbody>\n",
       "    <tr>\n",
       "      <th>0</th>\n",
       "      <td>126</td>\n",
       "      <td>1</td>\n",
       "      <td>C</td>\n",
       "      <td>Acer saccharum</td>\n",
       "      <td>0.106</td>\n",
       "      <td>Med</td>\n",
       "      <td>2017</td>\n",
       "      <td>Prunus serotina</td>\n",
       "      <td>I</td>\n",
       "      <td>Non-Sterile</td>\n",
       "      <td>...</td>\n",
       "      <td>22.00</td>\n",
       "      <td>NaN</td>\n",
       "      <td>-0.56</td>\n",
       "      <td>13.86</td>\n",
       "      <td>12.15</td>\n",
       "      <td>4</td>\n",
       "      <td>14.0</td>\n",
       "      <td>1.0</td>\n",
       "      <td>NaN</td>\n",
       "      <td>NaN</td>\n",
       "    </tr>\n",
       "    <tr>\n",
       "      <th>1</th>\n",
       "      <td>11</td>\n",
       "      <td>1</td>\n",
       "      <td>C</td>\n",
       "      <td>Quercus alba</td>\n",
       "      <td>0.106</td>\n",
       "      <td>Med</td>\n",
       "      <td>2017</td>\n",
       "      <td>Quercus rubra</td>\n",
       "      <td>970</td>\n",
       "      <td>Non-Sterile</td>\n",
       "      <td>...</td>\n",
       "      <td>15.82</td>\n",
       "      <td>31.07</td>\n",
       "      <td>5.19</td>\n",
       "      <td>20.52</td>\n",
       "      <td>19.29</td>\n",
       "      <td>33</td>\n",
       "      <td>115.5</td>\n",
       "      <td>0.0</td>\n",
       "      <td>NaN</td>\n",
       "      <td>X</td>\n",
       "    </tr>\n",
       "    <tr>\n",
       "      <th>2</th>\n",
       "      <td>12</td>\n",
       "      <td>1</td>\n",
       "      <td>C</td>\n",
       "      <td>Quercus rubra</td>\n",
       "      <td>0.106</td>\n",
       "      <td>Med</td>\n",
       "      <td>2017</td>\n",
       "      <td>Prunus serotina</td>\n",
       "      <td>J</td>\n",
       "      <td>Non-Sterile</td>\n",
       "      <td>...</td>\n",
       "      <td>24.45</td>\n",
       "      <td>28.19</td>\n",
       "      <td>3.36</td>\n",
       "      <td>24.74</td>\n",
       "      <td>15.01</td>\n",
       "      <td>18</td>\n",
       "      <td>63.0</td>\n",
       "      <td>1.0</td>\n",
       "      <td>NaN</td>\n",
       "      <td>NaN</td>\n",
       "    </tr>\n",
       "    <tr>\n",
       "      <th>3</th>\n",
       "      <td>2823</td>\n",
       "      <td>7</td>\n",
       "      <td>D</td>\n",
       "      <td>Acer saccharum</td>\n",
       "      <td>0.080</td>\n",
       "      <td>Med</td>\n",
       "      <td>2016</td>\n",
       "      <td>Prunus serotina</td>\n",
       "      <td>J</td>\n",
       "      <td>Non-Sterile</td>\n",
       "      <td>...</td>\n",
       "      <td>22.23</td>\n",
       "      <td>NaN</td>\n",
       "      <td>-0.71</td>\n",
       "      <td>14.29</td>\n",
       "      <td>12.36</td>\n",
       "      <td>4</td>\n",
       "      <td>14.0</td>\n",
       "      <td>1.0</td>\n",
       "      <td>NaN</td>\n",
       "      <td>NaN</td>\n",
       "    </tr>\n",
       "    <tr>\n",
       "      <th>4</th>\n",
       "      <td>5679</td>\n",
       "      <td>14</td>\n",
       "      <td>A</td>\n",
       "      <td>Acer saccharum</td>\n",
       "      <td>0.060</td>\n",
       "      <td>Low</td>\n",
       "      <td>2017</td>\n",
       "      <td>Prunus serotina</td>\n",
       "      <td>689</td>\n",
       "      <td>Non-Sterile</td>\n",
       "      <td>...</td>\n",
       "      <td>21.15</td>\n",
       "      <td>NaN</td>\n",
       "      <td>-0.58</td>\n",
       "      <td>10.85</td>\n",
       "      <td>11.20</td>\n",
       "      <td>4</td>\n",
       "      <td>14.0</td>\n",
       "      <td>1.0</td>\n",
       "      <td>NaN</td>\n",
       "      <td>NaN</td>\n",
       "    </tr>\n",
       "  </tbody>\n",
       "</table>\n",
       "<p>5 rows × 24 columns</p>\n",
       "</div>"
      ],
      "text/plain": [
       "     No  Plot Subplot         Species  Light_ISF Light_Cat  Core  \\\n",
       "0   126     1       C  Acer saccharum      0.106       Med  2017   \n",
       "1    11     1       C    Quercus alba      0.106       Med  2017   \n",
       "2    12     1       C   Quercus rubra      0.106       Med  2017   \n",
       "3  2823     7       D  Acer saccharum      0.080       Med  2016   \n",
       "4  5679    14       A  Acer saccharum      0.060       Low  2017   \n",
       "\n",
       "              Soil Adult      Sterile  ...    AMF    EMF Phenolics Lignin  \\\n",
       "0  Prunus serotina     I  Non-Sterile  ...  22.00    NaN     -0.56  13.86   \n",
       "1    Quercus rubra   970  Non-Sterile  ...  15.82  31.07      5.19  20.52   \n",
       "2  Prunus serotina     J  Non-Sterile  ...  24.45  28.19      3.36  24.74   \n",
       "3  Prunus serotina     J  Non-Sterile  ...  22.23    NaN     -0.71  14.29   \n",
       "4  Prunus serotina   689  Non-Sterile  ...  21.15    NaN     -0.58  10.85   \n",
       "\n",
       "     NSC  Census   Time  Event  Harvest  Alive  \n",
       "0  12.15       4   14.0    1.0      NaN    NaN  \n",
       "1  19.29      33  115.5    0.0      NaN      X  \n",
       "2  15.01      18   63.0    1.0      NaN    NaN  \n",
       "3  12.36       4   14.0    1.0      NaN    NaN  \n",
       "4  11.20       4   14.0    1.0      NaN    NaN  \n",
       "\n",
       "[5 rows x 24 columns]"
      ]
     },
     "execution_count": 3,
     "metadata": {},
     "output_type": "execute_result"
    }
   ],
   "source": [
    "df.head()"
   ]
  },
  {
   "cell_type": "code",
   "execution_count": 4,
   "metadata": {
    "execution": {
     "iopub.execute_input": "2023-11-14T18:37:02.884873Z",
     "iopub.status.busy": "2023-11-14T18:37:02.884489Z",
     "iopub.status.idle": "2023-11-14T18:37:02.898251Z",
     "shell.execute_reply": "2023-11-14T18:37:02.895837Z",
     "shell.execute_reply.started": "2023-11-14T18:37:02.884852Z"
    }
   },
   "outputs": [
    {
     "name": "stdout",
     "output_type": "stream",
     "text": [
      "<class 'pandas.core.frame.DataFrame'>\n",
      "RangeIndex: 2783 entries, 0 to 2782\n",
      "Data columns (total 24 columns):\n",
      " #   Column       Non-Null Count  Dtype  \n",
      "---  ------       --------------  -----  \n",
      " 0   No           2783 non-null   int64  \n",
      " 1   Plot         2783 non-null   int64  \n",
      " 2   Subplot      2783 non-null   object \n",
      " 3   Species      2783 non-null   object \n",
      " 4   Light_ISF    2783 non-null   float64\n",
      " 5   Light_Cat    2783 non-null   object \n",
      " 6   Core         2783 non-null   int64  \n",
      " 7   Soil         2783 non-null   object \n",
      " 8   Adult        2783 non-null   object \n",
      " 9   Sterile      2783 non-null   object \n",
      " 10  Conspecific  2783 non-null   object \n",
      " 11  Myco         2783 non-null   object \n",
      " 12  SoilMyco     2783 non-null   object \n",
      " 13  PlantDate    2783 non-null   object \n",
      " 14  AMF          2783 non-null   float64\n",
      " 15  EMF          1283 non-null   float64\n",
      " 16  Phenolics    2783 non-null   float64\n",
      " 17  Lignin       2783 non-null   float64\n",
      " 18  NSC          2783 non-null   float64\n",
      " 19  Census       2783 non-null   int64  \n",
      " 20  Time         2783 non-null   float64\n",
      " 21  Event        2782 non-null   float64\n",
      " 22  Harvest      704 non-null    object \n",
      " 23  Alive        491 non-null    object \n",
      "dtypes: float64(8), int64(4), object(12)\n",
      "memory usage: 521.9+ KB\n"
     ]
    }
   ],
   "source": [
    "df.info()"
   ]
  },
  {
   "cell_type": "markdown",
   "metadata": {
    "execution": {
     "iopub.execute_input": "2023-11-12T12:25:33.362779Z",
     "iopub.status.busy": "2023-11-12T12:25:33.362354Z",
     "iopub.status.idle": "2023-11-12T12:25:33.368574Z",
     "shell.execute_reply": "2023-11-12T12:25:33.367223Z",
     "shell.execute_reply.started": "2023-11-12T12:25:33.362749Z"
    }
   },
   "source": [
    "##### The size of 2783 entries is robust for this analysis. There is a missing value that can be dropped in Event."
   ]
  },
  {
   "cell_type": "code",
   "execution_count": 5,
   "metadata": {
    "execution": {
     "iopub.execute_input": "2023-11-14T18:37:02.900054Z",
     "iopub.status.busy": "2023-11-14T18:37:02.899803Z",
     "iopub.status.idle": "2023-11-14T18:37:02.910889Z",
     "shell.execute_reply": "2023-11-14T18:37:02.910115Z",
     "shell.execute_reply.started": "2023-11-14T18:37:02.900033Z"
    }
   },
   "outputs": [],
   "source": [
    "df.dropna(subset=['Event'], inplace=True)"
   ]
  },
  {
   "cell_type": "code",
   "execution_count": 6,
   "metadata": {
    "execution": {
     "iopub.execute_input": "2023-11-14T18:37:02.912708Z",
     "iopub.status.busy": "2023-11-14T18:37:02.911864Z",
     "iopub.status.idle": "2023-11-14T18:37:02.919007Z",
     "shell.execute_reply": "2023-11-14T18:37:02.918318Z",
     "shell.execute_reply.started": "2023-11-14T18:37:02.912683Z"
    }
   },
   "outputs": [
    {
     "data": {
      "text/plain": [
       "(2782, 24)"
      ]
     },
     "execution_count": 6,
     "metadata": {},
     "output_type": "execute_result"
    }
   ],
   "source": [
    "df.shape"
   ]
  },
  {
   "cell_type": "code",
   "execution_count": 7,
   "metadata": {
    "execution": {
     "iopub.execute_input": "2023-11-14T18:37:02.920698Z",
     "iopub.status.busy": "2023-11-14T18:37:02.919933Z",
     "iopub.status.idle": "2023-11-14T18:37:02.975742Z",
     "shell.execute_reply": "2023-11-14T18:37:02.974885Z",
     "shell.execute_reply.started": "2023-11-14T18:37:02.920674Z"
    }
   },
   "outputs": [
    {
     "data": {
      "text/html": [
       "<div>\n",
       "<style scoped>\n",
       "    .dataframe tbody tr th:only-of-type {\n",
       "        vertical-align: middle;\n",
       "    }\n",
       "\n",
       "    .dataframe tbody tr th {\n",
       "        vertical-align: top;\n",
       "    }\n",
       "\n",
       "    .dataframe thead th {\n",
       "        text-align: right;\n",
       "    }\n",
       "</style>\n",
       "<table border=\"1\" class=\"dataframe\">\n",
       "  <thead>\n",
       "    <tr style=\"text-align: right;\">\n",
       "      <th></th>\n",
       "      <th>No</th>\n",
       "      <th>Plot</th>\n",
       "      <th>Light_ISF</th>\n",
       "      <th>Core</th>\n",
       "      <th>AMF</th>\n",
       "      <th>EMF</th>\n",
       "      <th>Phenolics</th>\n",
       "      <th>Lignin</th>\n",
       "      <th>NSC</th>\n",
       "      <th>Census</th>\n",
       "      <th>Time</th>\n",
       "      <th>Event</th>\n",
       "    </tr>\n",
       "  </thead>\n",
       "  <tbody>\n",
       "    <tr>\n",
       "      <th>count</th>\n",
       "      <td>2782.000000</td>\n",
       "      <td>2782.000000</td>\n",
       "      <td>2782.000000</td>\n",
       "      <td>2782.000000</td>\n",
       "      <td>2782.000000</td>\n",
       "      <td>1282.000000</td>\n",
       "      <td>2782.000000</td>\n",
       "      <td>2782.000000</td>\n",
       "      <td>2782.000000</td>\n",
       "      <td>2782.000000</td>\n",
       "      <td>2782.000000</td>\n",
       "      <td>2782.000000</td>\n",
       "    </tr>\n",
       "    <tr>\n",
       "      <th>mean</th>\n",
       "      <td>3913.127606</td>\n",
       "      <td>9.558591</td>\n",
       "      <td>0.085680</td>\n",
       "      <td>2016.648814</td>\n",
       "      <td>20.554349</td>\n",
       "      <td>26.479844</td>\n",
       "      <td>1.932261</td>\n",
       "      <td>15.758490</td>\n",
       "      <td>14.217074</td>\n",
       "      <td>15.275701</td>\n",
       "      <td>53.464953</td>\n",
       "      <td>0.570453</td>\n",
       "    </tr>\n",
       "    <tr>\n",
       "      <th>std</th>\n",
       "      <td>2252.733097</td>\n",
       "      <td>5.202133</td>\n",
       "      <td>0.025603</td>\n",
       "      <td>0.477427</td>\n",
       "      <td>12.311615</td>\n",
       "      <td>16.643013</td>\n",
       "      <td>1.969693</td>\n",
       "      <td>6.780478</td>\n",
       "      <td>4.296910</td>\n",
       "      <td>9.162042</td>\n",
       "      <td>32.067148</td>\n",
       "      <td>0.495100</td>\n",
       "    </tr>\n",
       "    <tr>\n",
       "      <th>min</th>\n",
       "      <td>3.000000</td>\n",
       "      <td>1.000000</td>\n",
       "      <td>0.032000</td>\n",
       "      <td>2016.000000</td>\n",
       "      <td>0.000000</td>\n",
       "      <td>0.000000</td>\n",
       "      <td>-1.350000</td>\n",
       "      <td>2.230000</td>\n",
       "      <td>4.300000</td>\n",
       "      <td>4.000000</td>\n",
       "      <td>14.000000</td>\n",
       "      <td>0.000000</td>\n",
       "    </tr>\n",
       "    <tr>\n",
       "      <th>25%</th>\n",
       "      <td>1970.500000</td>\n",
       "      <td>5.000000</td>\n",
       "      <td>0.066000</td>\n",
       "      <td>2016.000000</td>\n",
       "      <td>13.400000</td>\n",
       "      <td>13.780000</td>\n",
       "      <td>0.170000</td>\n",
       "      <td>10.352500</td>\n",
       "      <td>11.602500</td>\n",
       "      <td>7.000000</td>\n",
       "      <td>24.500000</td>\n",
       "      <td>0.000000</td>\n",
       "    </tr>\n",
       "    <tr>\n",
       "      <th>50%</th>\n",
       "      <td>3931.500000</td>\n",
       "      <td>10.000000</td>\n",
       "      <td>0.082000</td>\n",
       "      <td>2017.000000</td>\n",
       "      <td>18.000000</td>\n",
       "      <td>27.730000</td>\n",
       "      <td>0.750000</td>\n",
       "      <td>14.040000</td>\n",
       "      <td>12.655000</td>\n",
       "      <td>13.000000</td>\n",
       "      <td>45.500000</td>\n",
       "      <td>1.000000</td>\n",
       "    </tr>\n",
       "    <tr>\n",
       "      <th>75%</th>\n",
       "      <td>5877.750000</td>\n",
       "      <td>14.000000</td>\n",
       "      <td>0.100000</td>\n",
       "      <td>2017.000000</td>\n",
       "      <td>24.447500</td>\n",
       "      <td>35.710000</td>\n",
       "      <td>3.780000</td>\n",
       "      <td>21.117500</td>\n",
       "      <td>17.270000</td>\n",
       "      <td>18.000000</td>\n",
       "      <td>63.000000</td>\n",
       "      <td>1.000000</td>\n",
       "    </tr>\n",
       "    <tr>\n",
       "      <th>max</th>\n",
       "      <td>7772.000000</td>\n",
       "      <td>18.000000</td>\n",
       "      <td>0.161000</td>\n",
       "      <td>2017.000000</td>\n",
       "      <td>100.000000</td>\n",
       "      <td>87.500000</td>\n",
       "      <td>6.100000</td>\n",
       "      <td>32.770000</td>\n",
       "      <td>29.450000</td>\n",
       "      <td>33.000000</td>\n",
       "      <td>115.500000</td>\n",
       "      <td>1.000000</td>\n",
       "    </tr>\n",
       "  </tbody>\n",
       "</table>\n",
       "</div>"
      ],
      "text/plain": [
       "                No         Plot    Light_ISF         Core          AMF  \\\n",
       "count  2782.000000  2782.000000  2782.000000  2782.000000  2782.000000   \n",
       "mean   3913.127606     9.558591     0.085680  2016.648814    20.554349   \n",
       "std    2252.733097     5.202133     0.025603     0.477427    12.311615   \n",
       "min       3.000000     1.000000     0.032000  2016.000000     0.000000   \n",
       "25%    1970.500000     5.000000     0.066000  2016.000000    13.400000   \n",
       "50%    3931.500000    10.000000     0.082000  2017.000000    18.000000   \n",
       "75%    5877.750000    14.000000     0.100000  2017.000000    24.447500   \n",
       "max    7772.000000    18.000000     0.161000  2017.000000   100.000000   \n",
       "\n",
       "               EMF    Phenolics       Lignin          NSC       Census  \\\n",
       "count  1282.000000  2782.000000  2782.000000  2782.000000  2782.000000   \n",
       "mean     26.479844     1.932261    15.758490    14.217074    15.275701   \n",
       "std      16.643013     1.969693     6.780478     4.296910     9.162042   \n",
       "min       0.000000    -1.350000     2.230000     4.300000     4.000000   \n",
       "25%      13.780000     0.170000    10.352500    11.602500     7.000000   \n",
       "50%      27.730000     0.750000    14.040000    12.655000    13.000000   \n",
       "75%      35.710000     3.780000    21.117500    17.270000    18.000000   \n",
       "max      87.500000     6.100000    32.770000    29.450000    33.000000   \n",
       "\n",
       "              Time        Event  \n",
       "count  2782.000000  2782.000000  \n",
       "mean     53.464953     0.570453  \n",
       "std      32.067148     0.495100  \n",
       "min      14.000000     0.000000  \n",
       "25%      24.500000     0.000000  \n",
       "50%      45.500000     1.000000  \n",
       "75%      63.000000     1.000000  \n",
       "max     115.500000     1.000000  "
      ]
     },
     "execution_count": 7,
     "metadata": {},
     "output_type": "execute_result"
    }
   ],
   "source": [
    "df.describe()"
   ]
  },
  {
   "cell_type": "markdown",
   "metadata": {
    "execution": {
     "iopub.execute_input": "2023-11-12T15:09:57.379431Z",
     "iopub.status.busy": "2023-11-12T15:09:57.379038Z",
     "iopub.status.idle": "2023-11-12T15:09:57.385201Z",
     "shell.execute_reply": "2023-11-12T15:09:57.3835Z",
     "shell.execute_reply.started": "2023-11-12T15:09:57.379399Z"
    }
   },
   "source": [
    "##### There seem to be no unrealistic outliers."
   ]
  },
  {
   "cell_type": "code",
   "execution_count": 8,
   "metadata": {
    "execution": {
     "iopub.execute_input": "2023-11-14T18:37:02.977629Z",
     "iopub.status.busy": "2023-11-14T18:37:02.9771Z",
     "iopub.status.idle": "2023-11-14T18:37:02.984359Z",
     "shell.execute_reply": "2023-11-14T18:37:02.98323Z",
     "shell.execute_reply.started": "2023-11-14T18:37:02.977599Z"
    }
   },
   "outputs": [
    {
     "name": "stdout",
     "output_type": "stream",
     "text": [
      "Species\n",
      "Acer saccharum     751\n",
      "Prunus serotina    749\n",
      "Quercus alba       672\n",
      "Quercus rubra      610\n",
      "Name: count, dtype: int64\n"
     ]
    }
   ],
   "source": [
    "print(df['Species'].value_counts())"
   ]
  },
  {
   "cell_type": "markdown",
   "metadata": {},
   "source": [
    "<div style=\"display: flex; justify-content: space-around;\">\n",
    "  <div style=\"text-align: center; margin: 0 10px;\">\n",
    "    <div style=\"width: 200px; height: 150px; overflow: hidden;\">\n",
    "      <img src=\"https://upload.wikimedia.org/wikipedia/commons/thumb/a/a1/Acer_saccharum_1-jgreenlee_%285098070608%29.jpg/800px-Acer_saccharum_1-jgreenlee_%285098070608%29.jpg?20131123060807\"\n",
    " alt=\"Image 1\" style=\"width: 200px; height: auto;\" />\n",
    "    </div>\n",
    "    <p>Acer saccharum (sugar maple)</p>\n",
    "  </div>\n",
    "  <div style=\"text-align: center; margin: 0 10px;\">\n",
    "    <div style=\"width: 200px; height: 150px; overflow: hidden;\">\n",
    "      <img src=\"https://upload.wikimedia.org/wikipedia/commons/thumb/8/8e/Quercus_alba_2-acorn_branch.jpg/777px-Quercus_alba_2-acorn_branch.jpg?20161009181747\"\n",
    " alt=\"Image 2\" style=\"width: 200px; height: auto;\" />\n",
    "    </div>\n",
    "    <p>Quercus alba (white oak)</p>\n",
    "  </div>\n",
    "  <div style=\"text-align: center; margin: 0 10px;\">\n",
    "    <div style=\"width: 200px; height: 150px; overflow: hidden;\">\n",
    "      <img src=\"https://upload.wikimedia.org/wikipedia/commons/thumb/f/fd/Quercus_rubra_1.jpg/220px-Quercus_rubra_1.jpg\"\n",
    " alt=\"Image 3\" style=\"width: 200px; height: auto;\" />\n",
    "    </div>\n",
    "    <p>Quercus rubra (northern red oak)</p>\n",
    "  </div>\n",
    "  <div style=\"text-align: center; margin: 0 10px;\">\n",
    "    <div style=\"width: 200px; height: 150px; overflow: hidden;\">\n",
    "      <img src=\"https://upload.wikimedia.org/wikipedia/commons/thumb/0/0d/Amerikaanse_vogelkers_Prunus_serotina_closeup.jpg/800px-Amerikaanse_vogelkers_Prunus_serotina_closeup.jpg\" alt=\"Image 4\" style=\"width: 200px; height: auto;\" />\n",
    "    </div>\n",
    "    <p>Prunus serotina (wild black cherry)</p>\n",
    "  </div>\n",
    "</div>"
   ]
  },
  {
   "cell_type": "code",
   "execution_count": 9,
   "metadata": {
    "execution": {
     "iopub.execute_input": "2023-11-14T18:37:02.989532Z",
     "iopub.status.busy": "2023-11-14T18:37:02.988514Z",
     "iopub.status.idle": "2023-11-14T18:37:03.004496Z",
     "shell.execute_reply": "2023-11-14T18:37:03.002282Z",
     "shell.execute_reply.started": "2023-11-14T18:37:02.989491Z"
    }
   },
   "outputs": [
    {
     "name": "stdout",
     "output_type": "stream",
     "text": [
      "Soil\n",
      "Sterile                  422\n",
      "Prunus serotina          413\n",
      "Quercus rubra            402\n",
      "Acer saccharum           397\n",
      "Populus grandidentata    391\n",
      "Quercus alba             381\n",
      "Acer rubrum              376\n",
      "Name: count, dtype: int64\n"
     ]
    }
   ],
   "source": [
    "print(df['Soil'].value_counts())"
   ]
  },
  {
   "cell_type": "code",
   "execution_count": 10,
   "metadata": {
    "execution": {
     "iopub.execute_input": "2023-11-14T18:37:03.007455Z",
     "iopub.status.busy": "2023-11-14T18:37:03.006928Z",
     "iopub.status.idle": "2023-11-14T18:37:03.018554Z",
     "shell.execute_reply": "2023-11-14T18:37:03.016666Z",
     "shell.execute_reply.started": "2023-11-14T18:37:03.007418Z"
    }
   },
   "outputs": [
    {
     "name": "stdout",
     "output_type": "stream",
     "text": [
      "Light_Cat\n",
      "Med     1474\n",
      "Low     1005\n",
      "High     303\n",
      "Name: count, dtype: int64\n"
     ]
    }
   ],
   "source": [
    "print(df['Light_Cat'].value_counts())"
   ]
  },
  {
   "cell_type": "markdown",
   "metadata": {
    "execution": {
     "iopub.execute_input": "2023-11-12T12:33:55.40528Z",
     "iopub.status.busy": "2023-11-12T12:33:55.404886Z",
     "iopub.status.idle": "2023-11-12T12:33:55.410237Z",
     "shell.execute_reply": "2023-11-12T12:33:55.409065Z",
     "shell.execute_reply.started": "2023-11-12T12:33:55.405252Z"
    }
   },
   "source": [
    "# 3. Logistic regression"
   ]
  },
  {
   "cell_type": "markdown",
   "metadata": {},
   "source": [
    "### 3.1 Pre-processing"
   ]
  },
  {
   "cell_type": "code",
   "execution_count": 11,
   "metadata": {
    "execution": {
     "iopub.execute_input": "2023-11-14T18:37:03.021319Z",
     "iopub.status.busy": "2023-11-14T18:37:03.020697Z",
     "iopub.status.idle": "2023-11-14T18:37:03.0305Z",
     "shell.execute_reply": "2023-11-14T18:37:03.029369Z",
     "shell.execute_reply.started": "2023-11-14T18:37:03.021285Z"
    }
   },
   "outputs": [],
   "source": [
    "# Scoping the df\n",
    "scoped_df = df[['Species', 'Soil', 'Light_Cat', 'Event']]"
   ]
  },
  {
   "cell_type": "code",
   "execution_count": 12,
   "metadata": {
    "execution": {
     "iopub.execute_input": "2023-11-14T18:37:03.032495Z",
     "iopub.status.busy": "2023-11-14T18:37:03.031976Z",
     "iopub.status.idle": "2023-11-14T18:37:03.045999Z",
     "shell.execute_reply": "2023-11-14T18:37:03.045015Z",
     "shell.execute_reply.started": "2023-11-14T18:37:03.032468Z"
    }
   },
   "outputs": [
    {
     "data": {
      "text/html": [
       "<div>\n",
       "<style scoped>\n",
       "    .dataframe tbody tr th:only-of-type {\n",
       "        vertical-align: middle;\n",
       "    }\n",
       "\n",
       "    .dataframe tbody tr th {\n",
       "        vertical-align: top;\n",
       "    }\n",
       "\n",
       "    .dataframe thead th {\n",
       "        text-align: right;\n",
       "    }\n",
       "</style>\n",
       "<table border=\"1\" class=\"dataframe\">\n",
       "  <thead>\n",
       "    <tr style=\"text-align: right;\">\n",
       "      <th></th>\n",
       "      <th>Species</th>\n",
       "      <th>Soil</th>\n",
       "      <th>Light_Cat</th>\n",
       "      <th>Event</th>\n",
       "    </tr>\n",
       "  </thead>\n",
       "  <tbody>\n",
       "    <tr>\n",
       "      <th>0</th>\n",
       "      <td>Acer saccharum</td>\n",
       "      <td>Prunus serotina</td>\n",
       "      <td>Med</td>\n",
       "      <td>1.0</td>\n",
       "    </tr>\n",
       "    <tr>\n",
       "      <th>1</th>\n",
       "      <td>Quercus alba</td>\n",
       "      <td>Quercus rubra</td>\n",
       "      <td>Med</td>\n",
       "      <td>0.0</td>\n",
       "    </tr>\n",
       "    <tr>\n",
       "      <th>2</th>\n",
       "      <td>Quercus rubra</td>\n",
       "      <td>Prunus serotina</td>\n",
       "      <td>Med</td>\n",
       "      <td>1.0</td>\n",
       "    </tr>\n",
       "  </tbody>\n",
       "</table>\n",
       "</div>"
      ],
      "text/plain": [
       "          Species             Soil Light_Cat  Event\n",
       "0  Acer saccharum  Prunus serotina       Med    1.0\n",
       "1    Quercus alba    Quercus rubra       Med    0.0\n",
       "2   Quercus rubra  Prunus serotina       Med    1.0"
      ]
     },
     "execution_count": 12,
     "metadata": {},
     "output_type": "execute_result"
    }
   ],
   "source": [
    "scoped_df.head(3)"
   ]
  },
  {
   "cell_type": "code",
   "execution_count": 13,
   "metadata": {
    "execution": {
     "iopub.execute_input": "2023-11-14T18:37:03.047599Z",
     "iopub.status.busy": "2023-11-14T18:37:03.047134Z",
     "iopub.status.idle": "2023-11-14T18:37:03.05655Z",
     "shell.execute_reply": "2023-11-14T18:37:03.055685Z",
     "shell.execute_reply.started": "2023-11-14T18:37:03.047576Z"
    }
   },
   "outputs": [],
   "source": [
    "def encode_one_hot():\n",
    "    # One hot encoding\n",
    "    encoder = OneHotEncoder()\n",
    "    categorical_columns = ['Species', 'Soil', 'Light_Cat']\n",
    "    encoded_data = encoder.fit_transform(scoped_df[categorical_columns]).toarray()\n",
    "    # Create column names\n",
    "    encoded_columns = []\n",
    "    for i, category in enumerate(encoder.categories_):\n",
    "        encoded_columns.extend([f\"{categorical_columns[i]}_{cat}\" for cat in category])\n",
    "    # print(encoded_columns)\n",
    "\n",
    "    encoded_df = pd.DataFrame(encoded_data, columns=encoded_columns)\n",
    "    encoded_df['Event'] = scoped_df['Event'].values\n",
    "    return encoded_df"
   ]
  },
  {
   "cell_type": "code",
   "execution_count": 14,
   "metadata": {
    "execution": {
     "iopub.execute_input": "2023-11-14T18:37:03.058552Z",
     "iopub.status.busy": "2023-11-14T18:37:03.057671Z",
     "iopub.status.idle": "2023-11-14T18:37:03.074103Z",
     "shell.execute_reply": "2023-11-14T18:37:03.072102Z",
     "shell.execute_reply.started": "2023-11-14T18:37:03.058518Z"
    }
   },
   "outputs": [],
   "source": [
    "encoded_df = encode_one_hot()"
   ]
  },
  {
   "cell_type": "markdown",
   "metadata": {},
   "source": [
    "### 3.2 Model"
   ]
  },
  {
   "cell_type": "code",
   "execution_count": 15,
   "metadata": {
    "execution": {
     "iopub.execute_input": "2023-11-14T18:37:03.076193Z",
     "iopub.status.busy": "2023-11-14T18:37:03.07582Z",
     "iopub.status.idle": "2023-11-14T18:37:03.084777Z",
     "shell.execute_reply": "2023-11-14T18:37:03.083383Z",
     "shell.execute_reply.started": "2023-11-14T18:37:03.076135Z"
    }
   },
   "outputs": [],
   "source": [
    "y = encoded_df['Event']\n",
    "X = encoded_df.drop('Event', axis=1)\n",
    "\n",
    "X_train, X_test, y_train, y_test = train_test_split(X, y, test_size=0.2, random_state=42)\n",
    "\n",
    "# print(X)"
   ]
  },
  {
   "cell_type": "code",
   "execution_count": 16,
   "metadata": {
    "execution": {
     "iopub.execute_input": "2023-11-14T18:37:03.086819Z",
     "iopub.status.busy": "2023-11-14T18:37:03.08638Z",
     "iopub.status.idle": "2023-11-14T18:37:03.101536Z",
     "shell.execute_reply": "2023-11-14T18:37:03.099834Z",
     "shell.execute_reply.started": "2023-11-14T18:37:03.086786Z"
    }
   },
   "outputs": [],
   "source": [
    "model = LogisticRegression()"
   ]
  },
  {
   "cell_type": "code",
   "execution_count": 17,
   "metadata": {
    "execution": {
     "iopub.execute_input": "2023-11-14T18:37:03.103931Z",
     "iopub.status.busy": "2023-11-14T18:37:03.103253Z",
     "iopub.status.idle": "2023-11-14T18:37:03.127955Z",
     "shell.execute_reply": "2023-11-14T18:37:03.127196Z",
     "shell.execute_reply.started": "2023-11-14T18:37:03.103887Z"
    }
   },
   "outputs": [
    {
     "data": {
      "text/html": [
       "<style>#sk-container-id-1 {color: black;}#sk-container-id-1 pre{padding: 0;}#sk-container-id-1 div.sk-toggleable {background-color: white;}#sk-container-id-1 label.sk-toggleable__label {cursor: pointer;display: block;width: 100%;margin-bottom: 0;padding: 0.3em;box-sizing: border-box;text-align: center;}#sk-container-id-1 label.sk-toggleable__label-arrow:before {content: \"▸\";float: left;margin-right: 0.25em;color: #696969;}#sk-container-id-1 label.sk-toggleable__label-arrow:hover:before {color: black;}#sk-container-id-1 div.sk-estimator:hover label.sk-toggleable__label-arrow:before {color: black;}#sk-container-id-1 div.sk-toggleable__content {max-height: 0;max-width: 0;overflow: hidden;text-align: left;background-color: #f0f8ff;}#sk-container-id-1 div.sk-toggleable__content pre {margin: 0.2em;color: black;border-radius: 0.25em;background-color: #f0f8ff;}#sk-container-id-1 input.sk-toggleable__control:checked~div.sk-toggleable__content {max-height: 200px;max-width: 100%;overflow: auto;}#sk-container-id-1 input.sk-toggleable__control:checked~label.sk-toggleable__label-arrow:before {content: \"▾\";}#sk-container-id-1 div.sk-estimator input.sk-toggleable__control:checked~label.sk-toggleable__label {background-color: #d4ebff;}#sk-container-id-1 div.sk-label input.sk-toggleable__control:checked~label.sk-toggleable__label {background-color: #d4ebff;}#sk-container-id-1 input.sk-hidden--visually {border: 0;clip: rect(1px 1px 1px 1px);clip: rect(1px, 1px, 1px, 1px);height: 1px;margin: -1px;overflow: hidden;padding: 0;position: absolute;width: 1px;}#sk-container-id-1 div.sk-estimator {font-family: monospace;background-color: #f0f8ff;border: 1px dotted black;border-radius: 0.25em;box-sizing: border-box;margin-bottom: 0.5em;}#sk-container-id-1 div.sk-estimator:hover {background-color: #d4ebff;}#sk-container-id-1 div.sk-parallel-item::after {content: \"\";width: 100%;border-bottom: 1px solid gray;flex-grow: 1;}#sk-container-id-1 div.sk-label:hover label.sk-toggleable__label {background-color: #d4ebff;}#sk-container-id-1 div.sk-serial::before {content: \"\";position: absolute;border-left: 1px solid gray;box-sizing: border-box;top: 0;bottom: 0;left: 50%;z-index: 0;}#sk-container-id-1 div.sk-serial {display: flex;flex-direction: column;align-items: center;background-color: white;padding-right: 0.2em;padding-left: 0.2em;position: relative;}#sk-container-id-1 div.sk-item {position: relative;z-index: 1;}#sk-container-id-1 div.sk-parallel {display: flex;align-items: stretch;justify-content: center;background-color: white;position: relative;}#sk-container-id-1 div.sk-item::before, #sk-container-id-1 div.sk-parallel-item::before {content: \"\";position: absolute;border-left: 1px solid gray;box-sizing: border-box;top: 0;bottom: 0;left: 50%;z-index: -1;}#sk-container-id-1 div.sk-parallel-item {display: flex;flex-direction: column;z-index: 1;position: relative;background-color: white;}#sk-container-id-1 div.sk-parallel-item:first-child::after {align-self: flex-end;width: 50%;}#sk-container-id-1 div.sk-parallel-item:last-child::after {align-self: flex-start;width: 50%;}#sk-container-id-1 div.sk-parallel-item:only-child::after {width: 0;}#sk-container-id-1 div.sk-dashed-wrapped {border: 1px dashed gray;margin: 0 0.4em 0.5em 0.4em;box-sizing: border-box;padding-bottom: 0.4em;background-color: white;}#sk-container-id-1 div.sk-label label {font-family: monospace;font-weight: bold;display: inline-block;line-height: 1.2em;}#sk-container-id-1 div.sk-label-container {text-align: center;}#sk-container-id-1 div.sk-container {/* jupyter's `normalize.less` sets `[hidden] { display: none; }` but bootstrap.min.css set `[hidden] { display: none !important; }` so we also need the `!important` here to be able to override the default hidden behavior on the sphinx rendered scikit-learn.org. See: https://github.com/scikit-learn/scikit-learn/issues/21755 */display: inline-block !important;position: relative;}#sk-container-id-1 div.sk-text-repr-fallback {display: none;}</style><div id=\"sk-container-id-1\" class=\"sk-top-container\"><div class=\"sk-text-repr-fallback\"><pre>LogisticRegression()</pre><b>In a Jupyter environment, please rerun this cell to show the HTML representation or trust the notebook. <br />On GitHub, the HTML representation is unable to render, please try loading this page with nbviewer.org.</b></div><div class=\"sk-container\" hidden><div class=\"sk-item\"><div class=\"sk-estimator sk-toggleable\"><input class=\"sk-toggleable__control sk-hidden--visually\" id=\"sk-estimator-id-1\" type=\"checkbox\" checked><label for=\"sk-estimator-id-1\" class=\"sk-toggleable__label sk-toggleable__label-arrow\">LogisticRegression</label><div class=\"sk-toggleable__content\"><pre>LogisticRegression()</pre></div></div></div></div></div>"
      ],
      "text/plain": [
       "LogisticRegression()"
      ]
     },
     "execution_count": 17,
     "metadata": {},
     "output_type": "execute_result"
    }
   ],
   "source": [
    "model.fit(X_train, y_train)"
   ]
  },
  {
   "cell_type": "markdown",
   "metadata": {},
   "source": [
    "### 3.3 Performance Evaluation"
   ]
  },
  {
   "cell_type": "code",
   "execution_count": 18,
   "metadata": {
    "execution": {
     "iopub.execute_input": "2023-11-14T18:37:03.129648Z",
     "iopub.status.busy": "2023-11-14T18:37:03.129189Z",
     "iopub.status.idle": "2023-11-14T18:37:03.148266Z",
     "shell.execute_reply": "2023-11-14T18:37:03.147462Z",
     "shell.execute_reply.started": "2023-11-14T18:37:03.129619Z"
    }
   },
   "outputs": [
    {
     "name": "stdout",
     "output_type": "stream",
     "text": [
      "              precision    recall  f1-score   support\n",
      "\n",
      "         0.0       0.76      0.85      0.80       234\n",
      "         1.0       0.88      0.80      0.84       323\n",
      "\n",
      "    accuracy                           0.82       557\n",
      "   macro avg       0.82      0.83      0.82       557\n",
      "weighted avg       0.83      0.82      0.83       557\n",
      "\n"
     ]
    }
   ],
   "source": [
    "y_pred = model.predict(X_test)\n",
    "print(classification_report(y_test, y_pred))"
   ]
  },
  {
   "cell_type": "code",
   "execution_count": 19,
   "metadata": {
    "execution": {
     "iopub.execute_input": "2023-11-14T18:37:03.149969Z",
     "iopub.status.busy": "2023-11-14T18:37:03.149495Z",
     "iopub.status.idle": "2023-11-14T18:37:03.156792Z",
     "shell.execute_reply": "2023-11-14T18:37:03.156066Z",
     "shell.execute_reply.started": "2023-11-14T18:37:03.14994Z"
    }
   },
   "outputs": [
    {
     "name": "stdout",
     "output_type": "stream",
     "text": [
      "[[200  34]\n",
      " [ 64 259]]\n"
     ]
    }
   ],
   "source": [
    "print(confusion_matrix(y_test, y_pred))"
   ]
  },
  {
   "cell_type": "markdown",
   "metadata": {},
   "source": [
    "200 - true negatives  \n",
    "64 - false negatives  \n",
    "34 - false positives  \n",
    "259 - true positives  "
   ]
  },
  {
   "cell_type": "markdown",
   "metadata": {},
   "source": [
    "### 3.4 Testing"
   ]
  },
  {
   "cell_type": "code",
   "execution_count": 20,
   "metadata": {
    "execution": {
     "iopub.execute_input": "2023-11-14T18:50:56.596962Z",
     "iopub.status.busy": "2023-11-14T18:50:56.596549Z",
     "iopub.status.idle": "2023-11-14T18:50:56.603942Z",
     "shell.execute_reply": "2023-11-14T18:50:56.602508Z",
     "shell.execute_reply.started": "2023-11-14T18:50:56.596933Z"
    }
   },
   "outputs": [
    {
     "name": "stdout",
     "output_type": "stream",
     "text": [
      "Index(['Species_Acer saccharum', 'Species_Prunus serotina',\n",
      "       'Species_Quercus alba', 'Species_Quercus rubra', 'Soil_Acer rubrum',\n",
      "       'Soil_Acer saccharum', 'Soil_Populus grandidentata',\n",
      "       'Soil_Prunus serotina', 'Soil_Quercus alba', 'Soil_Quercus rubra',\n",
      "       'Soil_Sterile', 'Light_Cat_High', 'Light_Cat_Low', 'Light_Cat_Med'],\n",
      "      dtype='object')\n"
     ]
    }
   ],
   "source": [
    "# We want to use a df in the same format as the data we submit to .predict()\n",
    "columns = X_test.columns\n",
    "print(columns)"
   ]
  },
  {
   "cell_type": "code",
   "execution_count": 21,
   "metadata": {
    "execution": {
     "iopub.execute_input": "2023-11-14T18:55:56.563586Z",
     "iopub.status.busy": "2023-11-14T18:55:56.563187Z",
     "iopub.status.idle": "2023-11-14T18:55:56.585876Z",
     "shell.execute_reply": "2023-11-14T18:55:56.584301Z",
     "shell.execute_reply.started": "2023-11-14T18:55:56.563561Z"
    }
   },
   "outputs": [
    {
     "data": {
      "text/html": [
       "<div>\n",
       "<style scoped>\n",
       "    .dataframe tbody tr th:only-of-type {\n",
       "        vertical-align: middle;\n",
       "    }\n",
       "\n",
       "    .dataframe tbody tr th {\n",
       "        vertical-align: top;\n",
       "    }\n",
       "\n",
       "    .dataframe thead th {\n",
       "        text-align: right;\n",
       "    }\n",
       "</style>\n",
       "<table border=\"1\" class=\"dataframe\">\n",
       "  <thead>\n",
       "    <tr style=\"text-align: right;\">\n",
       "      <th></th>\n",
       "      <th>Species_Acer saccharum</th>\n",
       "      <th>Species_Prunus serotina</th>\n",
       "      <th>Species_Quercus alba</th>\n",
       "      <th>Species_Quercus rubra</th>\n",
       "      <th>Soil_Acer rubrum</th>\n",
       "      <th>Soil_Acer saccharum</th>\n",
       "      <th>Soil_Populus grandidentata</th>\n",
       "      <th>Soil_Prunus serotina</th>\n",
       "      <th>Soil_Quercus alba</th>\n",
       "      <th>Soil_Quercus rubra</th>\n",
       "      <th>Soil_Sterile</th>\n",
       "      <th>Light_Cat_High</th>\n",
       "      <th>Light_Cat_Low</th>\n",
       "      <th>Light_Cat_Med</th>\n",
       "    </tr>\n",
       "  </thead>\n",
       "  <tbody>\n",
       "    <tr>\n",
       "      <th>0</th>\n",
       "      <td>1.0</td>\n",
       "      <td>0.0</td>\n",
       "      <td>0.0</td>\n",
       "      <td>0.0</td>\n",
       "      <td>0.0</td>\n",
       "      <td>0.0</td>\n",
       "      <td>0.0</td>\n",
       "      <td>1.0</td>\n",
       "      <td>0.0</td>\n",
       "      <td>0.0</td>\n",
       "      <td>0.0</td>\n",
       "      <td>1.0</td>\n",
       "      <td>0.0</td>\n",
       "      <td>0.0</td>\n",
       "    </tr>\n",
       "  </tbody>\n",
       "</table>\n",
       "</div>"
      ],
      "text/plain": [
       "   Species_Acer saccharum  Species_Prunus serotina  Species_Quercus alba  \\\n",
       "0                     1.0                      0.0                   0.0   \n",
       "\n",
       "   Species_Quercus rubra  Soil_Acer rubrum  Soil_Acer saccharum  \\\n",
       "0                    0.0               0.0                  0.0   \n",
       "\n",
       "   Soil_Populus grandidentata  Soil_Prunus serotina  Soil_Quercus alba  \\\n",
       "0                         0.0                   1.0                0.0   \n",
       "\n",
       "   Soil_Quercus rubra  Soil_Sterile  Light_Cat_High  Light_Cat_Low  \\\n",
       "0                 0.0           0.0             1.0            0.0   \n",
       "\n",
       "   Light_Cat_Med  \n",
       "0            0.0  "
      ]
     },
     "execution_count": 21,
     "metadata": {},
     "output_type": "execute_result"
    }
   ],
   "source": [
    "test_df = pd.DataFrame([[1.0,0.0,0.0,0.0,0.0,0.0,0.0,1.0,0.0,0.0,0.0,1.0,0.0,0.0]], \n",
    "                       index=[0], columns=columns)\n",
    "\n",
    "test_df.head(3)"
   ]
  },
  {
   "cell_type": "code",
   "execution_count": 22,
   "metadata": {
    "execution": {
     "iopub.execute_input": "2023-11-14T19:01:47.641478Z",
     "iopub.status.busy": "2023-11-14T19:01:47.640967Z",
     "iopub.status.idle": "2023-11-14T19:01:47.652365Z",
     "shell.execute_reply": "2023-11-14T19:01:47.650931Z",
     "shell.execute_reply.started": "2023-11-14T19:01:47.641439Z"
    }
   },
   "outputs": [
    {
     "data": {
      "text/plain": [
       "array([1.])"
      ]
     },
     "execution_count": 22,
     "metadata": {},
     "output_type": "execute_result"
    }
   ],
   "source": [
    "model.predict(test_df)"
   ]
  },
  {
   "cell_type": "markdown",
   "metadata": {
    "execution": {
     "iopub.execute_input": "2023-11-14T18:57:22.33705Z",
     "iopub.status.busy": "2023-11-14T18:57:22.336704Z",
     "iopub.status.idle": "2023-11-14T18:57:22.34276Z",
     "shell.execute_reply": "2023-11-14T18:57:22.341907Z",
     "shell.execute_reply.started": "2023-11-14T18:57:22.337027Z"
    }
   },
   "source": [
    "The model predicts that Acer Saccharum (sugar maple), growing in soil conditions typically altered by Prunus Serotina (black cherry), and under high light conditions, will not survive."
   ]
  },
  {
   "cell_type": "markdown",
   "metadata": {
    "execution": {
     "iopub.execute_input": "2023-11-12T14:15:48.91711Z",
     "iopub.status.busy": "2023-11-12T14:15:48.914485Z",
     "iopub.status.idle": "2023-11-12T14:15:48.931016Z",
     "shell.execute_reply": "2023-11-12T14:15:48.92826Z",
     "shell.execute_reply.started": "2023-11-12T14:15:48.917053Z"
    }
   },
   "source": [
    "Thanks!"
   ]
  }
 ],
 "metadata": {
  "kaggle": {
   "accelerator": "none",
   "dataSources": [
    {
     "datasetId": 3973968,
     "sourceId": 6920778,
     "sourceType": "datasetVersion"
    }
   ],
   "dockerImageVersionId": 30579,
   "isGpuEnabled": false,
   "isInternetEnabled": false,
   "language": "python",
   "sourceType": "notebook"
  },
  "kernelspec": {
   "display_name": "Python 3 (ipykernel)",
   "language": "python",
   "name": "python3"
  },
  "language_info": {
   "codemirror_mode": {
    "name": "ipython",
    "version": 3
   },
   "file_extension": ".py",
   "mimetype": "text/x-python",
   "name": "python",
   "nbconvert_exporter": "python",
   "pygments_lexer": "ipython3",
   "version": "3.11.5"
  }
 },
 "nbformat": 4,
 "nbformat_minor": 4
}
