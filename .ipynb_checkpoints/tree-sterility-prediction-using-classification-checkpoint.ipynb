{
 "cells": [
  {
   "cell_type": "code",
   "execution_count": 7,
   "metadata": {
    "_cell_guid": "b1076dfc-b9ad-4769-8c92-a6c4dae69d19",
    "_uuid": "8f2839f25d086af736a60e9eeb907d3b93b6e0e5",
    "execution": {
     "iopub.execute_input": "2023-11-15T06:53:18.991637Z",
     "iopub.status.busy": "2023-11-15T06:53:18.991215Z",
     "iopub.status.idle": "2023-11-15T06:53:18.999981Z",
     "shell.execute_reply": "2023-11-15T06:53:18.998979Z",
     "shell.execute_reply.started": "2023-11-15T06:53:18.99157Z"
    }
   },
   "outputs": [],
   "source": [
    "# This Python 3 environment comes with many helpful analytics libraries installed\n",
    "# It is defined by the kaggle/python Docker image: https://github.com/kaggle/docker-python\n",
    "# For example, here's several helpful packages to load\n",
    "\n",
    "import numpy as np # linear algebra\n",
    "import pandas as pd # data processing, CSV file I/O (e.g. pd.read_csv)\n",
    "\n",
    "# Input data files are available in the read-only \"../input/\" directory\n",
    "# For example, running this (by clicking run or pressing Shift+Enter) will list all files under the input directory\n",
    "\n",
    "import os\n",
    "for dirname, _, filenames in os.walk('/kaggle/input'):\n",
    "    for filename in filenames:\n",
    "        print(os.path.join(dirname, filename))\n",
    "\n",
    "# You can write up to 20GB to the current directory (/kaggle/working/) that gets preserved as output when you create a version using \"Save & Run All\" \n",
    "# You can also write temporary files to /kaggle/temp/, but they won't be saved outside of the current session"
   ]
  },
  {
   "cell_type": "code",
   "execution_count": 8,
   "metadata": {
    "execution": {
     "iopub.execute_input": "2023-11-15T06:53:19.002779Z",
     "iopub.status.busy": "2023-11-15T06:53:19.002309Z",
     "iopub.status.idle": "2023-11-15T06:53:19.016615Z",
     "shell.execute_reply": "2023-11-15T06:53:19.015046Z",
     "shell.execute_reply.started": "2023-11-15T06:53:19.002744Z"
    }
   },
   "outputs": [
    {
     "ename": "ModuleNotFoundError",
     "evalue": "No module named 'xgboost'",
     "output_type": "error",
     "traceback": [
      "\u001b[1;31m---------------------------------------------------------------------------\u001b[0m",
      "\u001b[1;31mModuleNotFoundError\u001b[0m                       Traceback (most recent call last)",
      "Cell \u001b[1;32mIn[8], line 16\u001b[0m\n\u001b[0;32m     14\u001b[0m \u001b[38;5;28;01mfrom\u001b[39;00m \u001b[38;5;21;01msklearn\u001b[39;00m\u001b[38;5;21;01m.\u001b[39;00m\u001b[38;5;21;01mensemble\u001b[39;00m \u001b[38;5;28;01mimport\u001b[39;00m AdaBoostClassifier\n\u001b[0;32m     15\u001b[0m \u001b[38;5;28;01mfrom\u001b[39;00m \u001b[38;5;21;01msklearn\u001b[39;00m\u001b[38;5;21;01m.\u001b[39;00m\u001b[38;5;21;01mensemble\u001b[39;00m \u001b[38;5;28;01mimport\u001b[39;00m GradientBoostingClassifier\n\u001b[1;32m---> 16\u001b[0m \u001b[38;5;28;01mfrom\u001b[39;00m \u001b[38;5;21;01mxgboost\u001b[39;00m \u001b[38;5;28;01mimport\u001b[39;00m XGBClassifier\n\u001b[0;32m     17\u001b[0m \u001b[38;5;28;01mimport\u001b[39;00m \u001b[38;5;21;01mwarnings\u001b[39;00m\n\u001b[0;32m     18\u001b[0m warnings\u001b[38;5;241m.\u001b[39mfilterwarnings(\u001b[38;5;124m\"\u001b[39m\u001b[38;5;124mignore\u001b[39m\u001b[38;5;124m\"\u001b[39m)\n",
      "\u001b[1;31mModuleNotFoundError\u001b[0m: No module named 'xgboost'"
     ]
    }
   ],
   "source": [
    "import pandas as pd\n",
    "import seaborn as sns\n",
    "import numpy as np\n",
    "import matplotlib.pyplot as plt\n",
    "from sklearn.feature_selection import SelectKBest\n",
    "from sklearn.preprocessing import LabelEncoder\n",
    "from sklearn.preprocessing import MinMaxScaler\n",
    "from sklearn.model_selection import train_test_split\n",
    "from sklearn.neighbors import KNeighborsClassifier\n",
    "from sklearn.svm import SVC\n",
    "from sklearn.naive_bayes import GaussianNB\n",
    "from sklearn.tree import DecisionTreeClassifier\n",
    "from sklearn.ensemble import RandomForestClassifier\n",
    "from sklearn.ensemble import AdaBoostClassifier\n",
    "from sklearn.ensemble import GradientBoostingClassifier\n",
    "from xgboost import XGBClassifier\n",
    "import warnings\n",
    "warnings.filterwarnings(\"ignore\")\n",
    "from sklearn.metrics import classification_report,ConfusionMatrixDisplay"
   ]
  },
  {
   "cell_type": "code",
   "execution_count": null,
   "metadata": {
    "execution": {
     "iopub.execute_input": "2023-11-15T06:53:19.018347Z",
     "iopub.status.busy": "2023-11-15T06:53:19.017896Z",
     "iopub.status.idle": "2023-11-15T06:53:19.072247Z",
     "shell.execute_reply": "2023-11-15T06:53:19.071239Z",
     "shell.execute_reply.started": "2023-11-15T06:53:19.018315Z"
    }
   },
   "outputs": [],
   "source": [
    "df=pd.read_csv(\"Tree_Data.csv\")\n",
    "df"
   ]
  },
  {
   "cell_type": "code",
   "execution_count": null,
   "metadata": {
    "execution": {
     "iopub.execute_input": "2023-11-15T06:53:19.074592Z",
     "iopub.status.busy": "2023-11-15T06:53:19.0743Z",
     "iopub.status.idle": "2023-11-15T06:53:19.085353Z",
     "shell.execute_reply": "2023-11-15T06:53:19.084044Z",
     "shell.execute_reply.started": "2023-11-15T06:53:19.074569Z"
    }
   },
   "outputs": [],
   "source": [
    "df.isna().sum()"
   ]
  },
  {
   "cell_type": "code",
   "execution_count": null,
   "metadata": {
    "execution": {
     "iopub.execute_input": "2023-11-15T06:53:19.088238Z",
     "iopub.status.busy": "2023-11-15T06:53:19.086833Z",
     "iopub.status.idle": "2023-11-15T06:53:19.099138Z",
     "shell.execute_reply": "2023-11-15T06:53:19.097832Z",
     "shell.execute_reply.started": "2023-11-15T06:53:19.088189Z"
    }
   },
   "outputs": [],
   "source": [
    "df.dtypes"
   ]
  },
  {
   "cell_type": "code",
   "execution_count": null,
   "metadata": {
    "execution": {
     "iopub.execute_input": "2023-11-15T06:53:19.10088Z",
     "iopub.status.busy": "2023-11-15T06:53:19.100582Z",
     "iopub.status.idle": "2023-11-15T06:53:19.107817Z",
     "shell.execute_reply": "2023-11-15T06:53:19.107024Z",
     "shell.execute_reply.started": "2023-11-15T06:53:19.100855Z"
    }
   },
   "outputs": [],
   "source": [
    "df.drop([\"EMF\", \"Harvest\", \"Alive\", \"Adult\",\"PlantDate\"], axis=1, inplace=True)\n"
   ]
  },
  {
   "cell_type": "code",
   "execution_count": null,
   "metadata": {
    "execution": {
     "iopub.execute_input": "2023-11-15T06:53:19.109615Z",
     "iopub.status.busy": "2023-11-15T06:53:19.108956Z",
     "iopub.status.idle": "2023-11-15T06:53:19.125199Z",
     "shell.execute_reply": "2023-11-15T06:53:19.123963Z",
     "shell.execute_reply.started": "2023-11-15T06:53:19.10959Z"
    }
   },
   "outputs": [],
   "source": [
    "lst=[\"Species\",\"Subplot\",\"Light_Cat\",\"Soil\",\"Sterile\",\"Conspecific\",\"Myco\",\"SoilMyco\"]\n",
    "le=LabelEncoder()\n",
    "for i in lst:\n",
    "    df[i]=le.fit_transform(df[i])"
   ]
  },
  {
   "cell_type": "code",
   "execution_count": null,
   "metadata": {
    "execution": {
     "iopub.execute_input": "2023-11-15T06:53:19.128334Z",
     "iopub.status.busy": "2023-11-15T06:53:19.127105Z",
     "iopub.status.idle": "2023-11-15T06:53:19.138012Z",
     "shell.execute_reply": "2023-11-15T06:53:19.137087Z",
     "shell.execute_reply.started": "2023-11-15T06:53:19.128281Z"
    }
   },
   "outputs": [],
   "source": [
    "df.dtypes"
   ]
  },
  {
   "cell_type": "code",
   "execution_count": null,
   "metadata": {
    "execution": {
     "iopub.execute_input": "2023-11-15T06:53:19.201741Z",
     "iopub.status.busy": "2023-11-15T06:53:19.201275Z",
     "iopub.status.idle": "2023-11-15T06:53:19.211798Z",
     "shell.execute_reply": "2023-11-15T06:53:19.210657Z",
     "shell.execute_reply.started": "2023-11-15T06:53:19.201716Z"
    }
   },
   "outputs": [],
   "source": [
    "df.isna().sum()"
   ]
  },
  {
   "cell_type": "code",
   "execution_count": null,
   "metadata": {
    "execution": {
     "iopub.execute_input": "2023-11-15T06:53:19.214381Z",
     "iopub.status.busy": "2023-11-15T06:53:19.213861Z",
     "iopub.status.idle": "2023-11-15T06:53:19.222829Z",
     "shell.execute_reply": "2023-11-15T06:53:19.221446Z",
     "shell.execute_reply.started": "2023-11-15T06:53:19.214347Z"
    }
   },
   "outputs": [],
   "source": [
    "df.dtypes"
   ]
  },
  {
   "cell_type": "code",
   "execution_count": null,
   "metadata": {
    "execution": {
     "iopub.execute_input": "2023-11-15T06:53:19.224856Z",
     "iopub.status.busy": "2023-11-15T06:53:19.224435Z",
     "iopub.status.idle": "2023-11-15T06:53:19.234437Z",
     "shell.execute_reply": "2023-11-15T06:53:19.232907Z",
     "shell.execute_reply.started": "2023-11-15T06:53:19.224826Z"
    }
   },
   "outputs": [],
   "source": [
    "df.dropna(inplace=True)"
   ]
  },
  {
   "cell_type": "code",
   "execution_count": null,
   "metadata": {
    "execution": {
     "iopub.execute_input": "2023-11-15T06:53:19.237692Z",
     "iopub.status.busy": "2023-11-15T06:53:19.23681Z",
     "iopub.status.idle": "2023-11-15T06:53:19.263724Z",
     "shell.execute_reply": "2023-11-15T06:53:19.262781Z",
     "shell.execute_reply.started": "2023-11-15T06:53:19.23766Z"
    }
   },
   "outputs": [],
   "source": [
    "df"
   ]
  },
  {
   "cell_type": "code",
   "execution_count": null,
   "metadata": {
    "execution": {
     "iopub.execute_input": "2023-11-15T06:53:19.266449Z",
     "iopub.status.busy": "2023-11-15T06:53:19.266176Z",
     "iopub.status.idle": "2023-11-15T06:53:19.291227Z",
     "shell.execute_reply": "2023-11-15T06:53:19.290048Z",
     "shell.execute_reply.started": "2023-11-15T06:53:19.266426Z"
    }
   },
   "outputs": [],
   "source": [
    "x=df.drop([\"Sterile\"],axis=1)\n",
    "x"
   ]
  },
  {
   "cell_type": "code",
   "execution_count": null,
   "metadata": {
    "execution": {
     "iopub.execute_input": "2023-11-15T06:53:19.293563Z",
     "iopub.status.busy": "2023-11-15T06:53:19.293108Z",
     "iopub.status.idle": "2023-11-15T06:53:19.301185Z",
     "shell.execute_reply": "2023-11-15T06:53:19.300122Z",
     "shell.execute_reply.started": "2023-11-15T06:53:19.29352Z"
    }
   },
   "outputs": [],
   "source": [
    "y=df.iloc[:,8]\n",
    "y"
   ]
  },
  {
   "cell_type": "code",
   "execution_count": null,
   "metadata": {
    "execution": {
     "iopub.execute_input": "2023-11-15T06:53:19.303076Z",
     "iopub.status.busy": "2023-11-15T06:53:19.302455Z",
     "iopub.status.idle": "2023-11-15T06:53:19.322266Z",
     "shell.execute_reply": "2023-11-15T06:53:19.32072Z",
     "shell.execute_reply.started": "2023-11-15T06:53:19.30305Z"
    }
   },
   "outputs": [],
   "source": [
    "from imblearn.over_sampling import RandomOverSampler\n",
    "sm=RandomOverSampler()\n",
    "x,y=sm.fit_resample(x,y)"
   ]
  },
  {
   "cell_type": "code",
   "execution_count": null,
   "metadata": {
    "execution": {
     "iopub.execute_input": "2023-11-15T06:53:19.324695Z",
     "iopub.status.busy": "2023-11-15T06:53:19.32393Z",
     "iopub.status.idle": "2023-11-15T06:53:19.333625Z",
     "shell.execute_reply": "2023-11-15T06:53:19.332699Z",
     "shell.execute_reply.started": "2023-11-15T06:53:19.324648Z"
    }
   },
   "outputs": [],
   "source": [
    "#splitting to test and train data\n",
    "X_train,X_test,y_train,y_test=train_test_split(x,y,test_size=0.1,random_state=4)"
   ]
  },
  {
   "cell_type": "markdown",
   "metadata": {},
   "source": [
    "KNeighborsClassifier"
   ]
  },
  {
   "cell_type": "code",
   "execution_count": null,
   "metadata": {
    "execution": {
     "iopub.execute_input": "2023-11-15T06:53:19.426239Z",
     "iopub.status.busy": "2023-11-15T06:53:19.425764Z",
     "iopub.status.idle": "2023-11-15T06:53:19.453155Z",
     "shell.execute_reply": "2023-11-15T06:53:19.452247Z",
     "shell.execute_reply.started": "2023-11-15T06:53:19.426208Z"
    }
   },
   "outputs": [],
   "source": [
    "knn1=KNeighborsClassifier(algorithm='auto',n_neighbors=9,weights='distance')\n",
    "knn1.fit(X_train,y_train)\n",
    "y_pred1=knn1.predict(X_test)\n",
    "print(classification_report(y_test,y_pred1))"
   ]
  },
  {
   "cell_type": "markdown",
   "metadata": {},
   "source": []
  },
  {
   "cell_type": "code",
   "execution_count": null,
   "metadata": {
    "execution": {
     "iopub.execute_input": "2023-11-15T06:54:06.937667Z",
     "iopub.status.busy": "2023-11-15T06:54:06.937269Z",
     "iopub.status.idle": "2023-11-15T06:54:07.847057Z",
     "shell.execute_reply": "2023-11-15T06:54:07.846087Z",
     "shell.execute_reply.started": "2023-11-15T06:54:06.937638Z"
    }
   },
   "outputs": [],
   "source": [
    "sv=SVC(C=10, gamma =1, kernel= 'rbf')\n",
    "sv.fit(X_train,y_train)\n",
    "y_pred2=sv.predict(X_test)\n",
    "y_pred2\n",
    "print(classification_report(y_test,y_pred2))"
   ]
  },
  {
   "cell_type": "code",
   "execution_count": null,
   "metadata": {},
   "outputs": [],
   "source": [
    "GaussianNB"
   ]
  },
  {
   "cell_type": "code",
   "execution_count": null,
   "metadata": {
    "execution": {
     "iopub.execute_input": "2023-11-15T06:54:36.010021Z",
     "iopub.status.busy": "2023-11-15T06:54:36.009665Z",
     "iopub.status.idle": "2023-11-15T06:54:36.032991Z",
     "shell.execute_reply": "2023-11-15T06:54:36.031807Z",
     "shell.execute_reply.started": "2023-11-15T06:54:36.009993Z"
    }
   },
   "outputs": [],
   "source": [
    "nb=GaussianNB()\n",
    "nb.fit(X_train,y_train)\n",
    "y_pred2=nb.predict(X_test)\n",
    "y_pred2\n",
    "print(classification_report(y_test,y_pred2))"
   ]
  },
  {
   "cell_type": "markdown",
   "metadata": {},
   "source": [
    "DecisionTreeClassifier"
   ]
  },
  {
   "cell_type": "code",
   "execution_count": null,
   "metadata": {
    "execution": {
     "iopub.execute_input": "2023-11-15T06:55:10.991922Z",
     "iopub.status.busy": "2023-11-15T06:55:10.991568Z",
     "iopub.status.idle": "2023-11-15T06:55:11.018891Z",
     "shell.execute_reply": "2023-11-15T06:55:11.017467Z",
     "shell.execute_reply.started": "2023-11-15T06:55:10.991897Z"
    }
   },
   "outputs": [],
   "source": [
    "dt=DecisionTreeClassifier(criterion='entropy',random_state=2,max_depth=10)\n",
    "dt.fit(X_train,y_train)\n",
    "y_pred3=dt.predict(X_test)\n",
    "y_pred3\n",
    "print(classification_report(y_test,y_pred3))"
   ]
  },
  {
   "cell_type": "markdown",
   "metadata": {},
   "source": [
    "RandomForestClassifier"
   ]
  },
  {
   "cell_type": "code",
   "execution_count": null,
   "metadata": {
    "execution": {
     "iopub.execute_input": "2023-11-15T06:55:36.15584Z",
     "iopub.status.busy": "2023-11-15T06:55:36.155427Z",
     "iopub.status.idle": "2023-11-15T06:55:36.729266Z",
     "shell.execute_reply": "2023-11-15T06:55:36.728295Z",
     "shell.execute_reply.started": "2023-11-15T06:55:36.155814Z"
    }
   },
   "outputs": [],
   "source": [
    "rf=RandomForestClassifier(criterion= 'entropy', max_depth= None, min_samples_leaf= 1, min_samples_split= 4,n_estimators= 200)\n",
    "rf.fit(X_train,y_train)\n",
    "y_pred4=rf.predict(X_test)\n",
    "y_pred4\n",
    "print(classification_report(y_test,y_pred4))"
   ]
  },
  {
   "cell_type": "markdown",
   "metadata": {},
   "source": [
    "XG BOOST"
   ]
  },
  {
   "cell_type": "code",
   "execution_count": null,
   "metadata": {
    "execution": {
     "iopub.execute_input": "2023-11-15T06:56:01.605091Z",
     "iopub.status.busy": "2023-11-15T06:56:01.604611Z",
     "iopub.status.idle": "2023-11-15T06:56:01.77147Z",
     "shell.execute_reply": "2023-11-15T06:56:01.770793Z",
     "shell.execute_reply.started": "2023-11-15T06:56:01.605054Z"
    }
   },
   "outputs": [],
   "source": [
    "#xgboost\n",
    "xgb=XGBClassifier()\n",
    "xgb.fit(X_train,y_train)\n",
    "y_pred7=xgb.predict(X_test)\n",
    "y_pred7\n",
    "print(classification_report(y_test,y_pred7))"
   ]
  }
 ],
 "metadata": {
  "kaggle": {
   "accelerator": "none",
   "dataSources": [
    {
     "datasetId": 3973968,
     "sourceId": 6920778,
     "sourceType": "datasetVersion"
    }
   ],
   "dockerImageVersionId": 30579,
   "isGpuEnabled": false,
   "isInternetEnabled": false,
   "language": "python",
   "sourceType": "notebook"
  },
  "kernelspec": {
   "display_name": "Python 3 (ipykernel)",
   "language": "python",
   "name": "python3"
  },
  "language_info": {
   "codemirror_mode": {
    "name": "ipython",
    "version": 3
   },
   "file_extension": ".py",
   "mimetype": "text/x-python",
   "name": "python",
   "nbconvert_exporter": "python",
   "pygments_lexer": "ipython3",
   "version": "3.11.5"
  }
 },
 "nbformat": 4,
 "nbformat_minor": 4
}
