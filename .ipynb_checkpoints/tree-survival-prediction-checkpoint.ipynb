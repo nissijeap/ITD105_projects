{
 "cells": [
  {
   "cell_type": "code",
   "execution_count": 1,
   "metadata": {
    "_cell_guid": "b1076dfc-b9ad-4769-8c92-a6c4dae69d19",
    "_uuid": "8f2839f25d086af736a60e9eeb907d3b93b6e0e5",
    "execution": {
     "iopub.execute_input": "2023-11-15T12:49:17.026631Z",
     "iopub.status.busy": "2023-11-15T12:49:17.026175Z",
     "iopub.status.idle": "2023-11-15T12:49:19.896337Z",
     "shell.execute_reply": "2023-11-15T12:49:19.89528Z",
     "shell.execute_reply.started": "2023-11-15T12:49:17.026593Z"
    }
   },
   "outputs": [],
   "source": [
    "# This Python 3 environment comes with many helpful analytics libraries installed\n",
    "# It is defined by the kaggle/python Docker image: https://github.com/kaggle/docker-python\n",
    "# For example, here's several helpful packages to load\n",
    "\n",
    "import numpy as np # linear algebra\n",
    "import pandas as pd # data processing, CSV file I/O (e.g. pd.read_csv)\n",
    "from sklearn.ensemble import RandomForestClassifier\n",
    "from sklearn import preprocessing\n",
    "import pickle as p\n",
    "from sklearn.model_selection import train_test_split\n",
    "import seaborn as sns\n",
    "# Input data files are available in the read-only \"../input/\" directory\n",
    "# For example, running this (by clicking run or pressing Shift+Enter) will list all files under the input directory\n",
    "\n",
    "import os\n",
    "for dirname, _, filenames in os.walk('/kaggle/input'):\n",
    "    for filename in filenames:\n",
    "        print(os.path.join(dirname, filename))\n",
    "\n",
    "# You can write up to 20GB to the current directory (/kaggle/working/) that gets preserved as output when you create a version using \"Save & Run All\" \n",
    "# You can also write temporary files to /kaggle/temp/, but they won't be saved outside of the current session"
   ]
  },
  {
   "cell_type": "code",
   "execution_count": 2,
   "metadata": {
    "execution": {
     "iopub.execute_input": "2023-11-15T12:49:19.900025Z",
     "iopub.status.busy": "2023-11-15T12:49:19.898496Z",
     "iopub.status.idle": "2023-11-15T12:49:19.941862Z",
     "shell.execute_reply": "2023-11-15T12:49:19.94067Z",
     "shell.execute_reply.started": "2023-11-15T12:49:19.899964Z"
    }
   },
   "outputs": [],
   "source": [
    "df = pd.read_csv('Tree_Data.csv')"
   ]
  },
  {
   "cell_type": "code",
   "execution_count": 3,
   "metadata": {
    "execution": {
     "iopub.execute_input": "2023-11-15T12:49:19.944374Z",
     "iopub.status.busy": "2023-11-15T12:49:19.943425Z",
     "iopub.status.idle": "2023-11-15T12:49:19.958438Z",
     "shell.execute_reply": "2023-11-15T12:49:19.957023Z",
     "shell.execute_reply.started": "2023-11-15T12:49:19.94432Z"
    }
   },
   "outputs": [],
   "source": [
    "df = df.fillna(0)"
   ]
  },
  {
   "cell_type": "code",
   "execution_count": 4,
   "metadata": {
    "execution": {
     "iopub.execute_input": "2023-11-15T12:49:19.962525Z",
     "iopub.status.busy": "2023-11-15T12:49:19.96134Z",
     "iopub.status.idle": "2023-11-15T12:49:20.015587Z",
     "shell.execute_reply": "2023-11-15T12:49:20.014611Z",
     "shell.execute_reply.started": "2023-11-15T12:49:19.962465Z"
    }
   },
   "outputs": [
    {
     "data": {
      "text/html": [
       "<div>\n",
       "<style scoped>\n",
       "    .dataframe tbody tr th:only-of-type {\n",
       "        vertical-align: middle;\n",
       "    }\n",
       "\n",
       "    .dataframe tbody tr th {\n",
       "        vertical-align: top;\n",
       "    }\n",
       "\n",
       "    .dataframe thead th {\n",
       "        text-align: right;\n",
       "    }\n",
       "</style>\n",
       "<table border=\"1\" class=\"dataframe\">\n",
       "  <thead>\n",
       "    <tr style=\"text-align: right;\">\n",
       "      <th></th>\n",
       "      <th>No</th>\n",
       "      <th>Plot</th>\n",
       "      <th>Subplot</th>\n",
       "      <th>Species</th>\n",
       "      <th>Light_ISF</th>\n",
       "      <th>Light_Cat</th>\n",
       "      <th>Core</th>\n",
       "      <th>Soil</th>\n",
       "      <th>Adult</th>\n",
       "      <th>Sterile</th>\n",
       "      <th>...</th>\n",
       "      <th>AMF</th>\n",
       "      <th>EMF</th>\n",
       "      <th>Phenolics</th>\n",
       "      <th>Lignin</th>\n",
       "      <th>NSC</th>\n",
       "      <th>Census</th>\n",
       "      <th>Time</th>\n",
       "      <th>Event</th>\n",
       "      <th>Harvest</th>\n",
       "      <th>Alive</th>\n",
       "    </tr>\n",
       "  </thead>\n",
       "  <tbody>\n",
       "    <tr>\n",
       "      <th>0</th>\n",
       "      <td>126</td>\n",
       "      <td>1</td>\n",
       "      <td>C</td>\n",
       "      <td>Acer saccharum</td>\n",
       "      <td>0.106</td>\n",
       "      <td>Med</td>\n",
       "      <td>2017</td>\n",
       "      <td>Prunus serotina</td>\n",
       "      <td>I</td>\n",
       "      <td>Non-Sterile</td>\n",
       "      <td>...</td>\n",
       "      <td>22.00</td>\n",
       "      <td>0.00</td>\n",
       "      <td>-0.56</td>\n",
       "      <td>13.86</td>\n",
       "      <td>12.15</td>\n",
       "      <td>4</td>\n",
       "      <td>14.0</td>\n",
       "      <td>1.0</td>\n",
       "      <td>0</td>\n",
       "      <td>0</td>\n",
       "    </tr>\n",
       "    <tr>\n",
       "      <th>1</th>\n",
       "      <td>11</td>\n",
       "      <td>1</td>\n",
       "      <td>C</td>\n",
       "      <td>Quercus alba</td>\n",
       "      <td>0.106</td>\n",
       "      <td>Med</td>\n",
       "      <td>2017</td>\n",
       "      <td>Quercus rubra</td>\n",
       "      <td>970</td>\n",
       "      <td>Non-Sterile</td>\n",
       "      <td>...</td>\n",
       "      <td>15.82</td>\n",
       "      <td>31.07</td>\n",
       "      <td>5.19</td>\n",
       "      <td>20.52</td>\n",
       "      <td>19.29</td>\n",
       "      <td>33</td>\n",
       "      <td>115.5</td>\n",
       "      <td>0.0</td>\n",
       "      <td>0</td>\n",
       "      <td>X</td>\n",
       "    </tr>\n",
       "    <tr>\n",
       "      <th>2</th>\n",
       "      <td>12</td>\n",
       "      <td>1</td>\n",
       "      <td>C</td>\n",
       "      <td>Quercus rubra</td>\n",
       "      <td>0.106</td>\n",
       "      <td>Med</td>\n",
       "      <td>2017</td>\n",
       "      <td>Prunus serotina</td>\n",
       "      <td>J</td>\n",
       "      <td>Non-Sterile</td>\n",
       "      <td>...</td>\n",
       "      <td>24.45</td>\n",
       "      <td>28.19</td>\n",
       "      <td>3.36</td>\n",
       "      <td>24.74</td>\n",
       "      <td>15.01</td>\n",
       "      <td>18</td>\n",
       "      <td>63.0</td>\n",
       "      <td>1.0</td>\n",
       "      <td>0</td>\n",
       "      <td>0</td>\n",
       "    </tr>\n",
       "    <tr>\n",
       "      <th>3</th>\n",
       "      <td>2823</td>\n",
       "      <td>7</td>\n",
       "      <td>D</td>\n",
       "      <td>Acer saccharum</td>\n",
       "      <td>0.080</td>\n",
       "      <td>Med</td>\n",
       "      <td>2016</td>\n",
       "      <td>Prunus serotina</td>\n",
       "      <td>J</td>\n",
       "      <td>Non-Sterile</td>\n",
       "      <td>...</td>\n",
       "      <td>22.23</td>\n",
       "      <td>0.00</td>\n",
       "      <td>-0.71</td>\n",
       "      <td>14.29</td>\n",
       "      <td>12.36</td>\n",
       "      <td>4</td>\n",
       "      <td>14.0</td>\n",
       "      <td>1.0</td>\n",
       "      <td>0</td>\n",
       "      <td>0</td>\n",
       "    </tr>\n",
       "    <tr>\n",
       "      <th>4</th>\n",
       "      <td>5679</td>\n",
       "      <td>14</td>\n",
       "      <td>A</td>\n",
       "      <td>Acer saccharum</td>\n",
       "      <td>0.060</td>\n",
       "      <td>Low</td>\n",
       "      <td>2017</td>\n",
       "      <td>Prunus serotina</td>\n",
       "      <td>689</td>\n",
       "      <td>Non-Sterile</td>\n",
       "      <td>...</td>\n",
       "      <td>21.15</td>\n",
       "      <td>0.00</td>\n",
       "      <td>-0.58</td>\n",
       "      <td>10.85</td>\n",
       "      <td>11.20</td>\n",
       "      <td>4</td>\n",
       "      <td>14.0</td>\n",
       "      <td>1.0</td>\n",
       "      <td>0</td>\n",
       "      <td>0</td>\n",
       "    </tr>\n",
       "    <tr>\n",
       "      <th>...</th>\n",
       "      <td>...</td>\n",
       "      <td>...</td>\n",
       "      <td>...</td>\n",
       "      <td>...</td>\n",
       "      <td>...</td>\n",
       "      <td>...</td>\n",
       "      <td>...</td>\n",
       "      <td>...</td>\n",
       "      <td>...</td>\n",
       "      <td>...</td>\n",
       "      <td>...</td>\n",
       "      <td>...</td>\n",
       "      <td>...</td>\n",
       "      <td>...</td>\n",
       "      <td>...</td>\n",
       "      <td>...</td>\n",
       "      <td>...</td>\n",
       "      <td>...</td>\n",
       "      <td>...</td>\n",
       "      <td>...</td>\n",
       "      <td>...</td>\n",
       "    </tr>\n",
       "    <tr>\n",
       "      <th>2778</th>\n",
       "      <td>7165</td>\n",
       "      <td>17</td>\n",
       "      <td>B</td>\n",
       "      <td>Prunus serotina</td>\n",
       "      <td>0.111</td>\n",
       "      <td>Med</td>\n",
       "      <td>2017</td>\n",
       "      <td>Populus grandidentata</td>\n",
       "      <td>891</td>\n",
       "      <td>Non-Sterile</td>\n",
       "      <td>...</td>\n",
       "      <td>40.89</td>\n",
       "      <td>0.00</td>\n",
       "      <td>0.83</td>\n",
       "      <td>9.15</td>\n",
       "      <td>11.88</td>\n",
       "      <td>16</td>\n",
       "      <td>56.0</td>\n",
       "      <td>1.0</td>\n",
       "      <td>0</td>\n",
       "      <td>0</td>\n",
       "    </tr>\n",
       "    <tr>\n",
       "      <th>2779</th>\n",
       "      <td>7217</td>\n",
       "      <td>17</td>\n",
       "      <td>D</td>\n",
       "      <td>Quercus alba</td>\n",
       "      <td>0.118</td>\n",
       "      <td>Med</td>\n",
       "      <td>2017</td>\n",
       "      <td>Acer rubrum</td>\n",
       "      <td>1468</td>\n",
       "      <td>Non-Sterile</td>\n",
       "      <td>...</td>\n",
       "      <td>15.47</td>\n",
       "      <td>32.82</td>\n",
       "      <td>4.88</td>\n",
       "      <td>19.01</td>\n",
       "      <td>23.50</td>\n",
       "      <td>16</td>\n",
       "      <td>56.0</td>\n",
       "      <td>1.0</td>\n",
       "      <td>0</td>\n",
       "      <td>0</td>\n",
       "    </tr>\n",
       "    <tr>\n",
       "      <th>2780</th>\n",
       "      <td>7306</td>\n",
       "      <td>17</td>\n",
       "      <td>D</td>\n",
       "      <td>Quercus alba</td>\n",
       "      <td>0.118</td>\n",
       "      <td>Med</td>\n",
       "      <td>2017</td>\n",
       "      <td>Quercus rubra</td>\n",
       "      <td>1454</td>\n",
       "      <td>Non-Sterile</td>\n",
       "      <td>...</td>\n",
       "      <td>11.96</td>\n",
       "      <td>37.67</td>\n",
       "      <td>5.51</td>\n",
       "      <td>21.13</td>\n",
       "      <td>19.10</td>\n",
       "      <td>16</td>\n",
       "      <td>56.0</td>\n",
       "      <td>1.0</td>\n",
       "      <td>0</td>\n",
       "      <td>0</td>\n",
       "    </tr>\n",
       "    <tr>\n",
       "      <th>2781</th>\n",
       "      <td>7771</td>\n",
       "      <td>18</td>\n",
       "      <td>D</td>\n",
       "      <td>Quercus alba</td>\n",
       "      <td>0.161</td>\n",
       "      <td>High</td>\n",
       "      <td>2017</td>\n",
       "      <td>Sterile</td>\n",
       "      <td>1297</td>\n",
       "      <td>Sterile</td>\n",
       "      <td>...</td>\n",
       "      <td>16.99</td>\n",
       "      <td>22.51</td>\n",
       "      <td>4.28</td>\n",
       "      <td>19.38</td>\n",
       "      <td>21.36</td>\n",
       "      <td>33</td>\n",
       "      <td>115.5</td>\n",
       "      <td>0.0</td>\n",
       "      <td>0</td>\n",
       "      <td>0</td>\n",
       "    </tr>\n",
       "    <tr>\n",
       "      <th>2782</th>\n",
       "      <td>7401</td>\n",
       "      <td>18</td>\n",
       "      <td>A</td>\n",
       "      <td>Prunus serotina</td>\n",
       "      <td>0.141</td>\n",
       "      <td>High</td>\n",
       "      <td>2016</td>\n",
       "      <td>Populus grandidentata</td>\n",
       "      <td>118</td>\n",
       "      <td>Non-Sterile</td>\n",
       "      <td>...</td>\n",
       "      <td>60.46</td>\n",
       "      <td>0.00</td>\n",
       "      <td>1.00</td>\n",
       "      <td>9.04</td>\n",
       "      <td>11.82</td>\n",
       "      <td>16</td>\n",
       "      <td>56.0</td>\n",
       "      <td>1.0</td>\n",
       "      <td>0</td>\n",
       "      <td>0</td>\n",
       "    </tr>\n",
       "  </tbody>\n",
       "</table>\n",
       "<p>2783 rows × 24 columns</p>\n",
       "</div>"
      ],
      "text/plain": [
       "        No  Plot Subplot          Species  Light_ISF Light_Cat  Core  \\\n",
       "0      126     1       C   Acer saccharum      0.106       Med  2017   \n",
       "1       11     1       C     Quercus alba      0.106       Med  2017   \n",
       "2       12     1       C    Quercus rubra      0.106       Med  2017   \n",
       "3     2823     7       D   Acer saccharum      0.080       Med  2016   \n",
       "4     5679    14       A   Acer saccharum      0.060       Low  2017   \n",
       "...    ...   ...     ...              ...        ...       ...   ...   \n",
       "2778  7165    17       B  Prunus serotina      0.111       Med  2017   \n",
       "2779  7217    17       D     Quercus alba      0.118       Med  2017   \n",
       "2780  7306    17       D     Quercus alba      0.118       Med  2017   \n",
       "2781  7771    18       D     Quercus alba      0.161      High  2017   \n",
       "2782  7401    18       A  Prunus serotina      0.141      High  2016   \n",
       "\n",
       "                       Soil Adult      Sterile  ...    AMF    EMF Phenolics  \\\n",
       "0           Prunus serotina     I  Non-Sterile  ...  22.00   0.00     -0.56   \n",
       "1             Quercus rubra   970  Non-Sterile  ...  15.82  31.07      5.19   \n",
       "2           Prunus serotina     J  Non-Sterile  ...  24.45  28.19      3.36   \n",
       "3           Prunus serotina     J  Non-Sterile  ...  22.23   0.00     -0.71   \n",
       "4           Prunus serotina   689  Non-Sterile  ...  21.15   0.00     -0.58   \n",
       "...                     ...   ...          ...  ...    ...    ...       ...   \n",
       "2778  Populus grandidentata   891  Non-Sterile  ...  40.89   0.00      0.83   \n",
       "2779            Acer rubrum  1468  Non-Sterile  ...  15.47  32.82      4.88   \n",
       "2780          Quercus rubra  1454  Non-Sterile  ...  11.96  37.67      5.51   \n",
       "2781                Sterile  1297      Sterile  ...  16.99  22.51      4.28   \n",
       "2782  Populus grandidentata   118  Non-Sterile  ...  60.46   0.00      1.00   \n",
       "\n",
       "     Lignin    NSC  Census   Time  Event  Harvest  Alive  \n",
       "0     13.86  12.15       4   14.0    1.0        0      0  \n",
       "1     20.52  19.29      33  115.5    0.0        0      X  \n",
       "2     24.74  15.01      18   63.0    1.0        0      0  \n",
       "3     14.29  12.36       4   14.0    1.0        0      0  \n",
       "4     10.85  11.20       4   14.0    1.0        0      0  \n",
       "...     ...    ...     ...    ...    ...      ...    ...  \n",
       "2778   9.15  11.88      16   56.0    1.0        0      0  \n",
       "2779  19.01  23.50      16   56.0    1.0        0      0  \n",
       "2780  21.13  19.10      16   56.0    1.0        0      0  \n",
       "2781  19.38  21.36      33  115.5    0.0        0      0  \n",
       "2782   9.04  11.82      16   56.0    1.0        0      0  \n",
       "\n",
       "[2783 rows x 24 columns]"
      ]
     },
     "execution_count": 4,
     "metadata": {},
     "output_type": "execute_result"
    }
   ],
   "source": [
    "df"
   ]
  },
  {
   "cell_type": "markdown",
   "metadata": {},
   "source": [
    "# Exploratory Data Analysis"
   ]
  },
  {
   "cell_type": "code",
   "execution_count": 5,
   "metadata": {
    "execution": {
     "iopub.execute_input": "2023-11-15T12:49:20.017411Z",
     "iopub.status.busy": "2023-11-15T12:49:20.016776Z",
     "iopub.status.idle": "2023-11-15T12:49:20.260648Z",
     "shell.execute_reply": "2023-11-15T12:49:20.259647Z",
     "shell.execute_reply.started": "2023-11-15T12:49:20.017376Z"
    }
   },
   "outputs": [
    {
     "data": {
      "text/plain": [
       "<Axes: xlabel='Alive', ylabel='count'>"
      ]
     },
     "execution_count": 5,
     "metadata": {},
     "output_type": "execute_result"
    },
    {
     "data": {
      "image/png": "[encoded data removed]",
      "text/plain": [
       "<Figure size 640x480 with 1 Axes>"
      ]
     },
     "metadata": {},
     "output_type": "display_data"
    }
   ],
   "source": [
    "green = '#52BE80'\n",
    "red = '#EC7063'\n",
    "sns.countplot(x=df['Alive'], palette=[green, red])"
   ]
  },
  {
   "cell_type": "code",
   "execution_count": 6,
   "metadata": {
    "execution": {
     "iopub.execute_input": "2023-11-15T12:49:20.263073Z",
     "iopub.status.busy": "2023-11-15T12:49:20.262347Z",
     "iopub.status.idle": "2023-11-15T12:49:20.51129Z",
     "shell.execute_reply": "2023-11-15T12:49:20.510212Z",
     "shell.execute_reply.started": "2023-11-15T12:49:20.263034Z"
    }
   },
   "outputs": [
    {
     "data": {
      "text/plain": [
       "<Axes: xlabel='Harvest', ylabel='count'>"
      ]
     },
     "execution_count": 6,
     "metadata": {},
     "output_type": "execute_result"
    },
    {
     "data": {
      "image/png": "[encoded data removed]",
      "text/plain": [
       "<Figure size 640x480 with 1 Axes>"
      ]
     },
     "metadata": {},
     "output_type": "display_data"
    }
   ],
   "source": [
    "green = '#52BE80'\n",
    "red = '#EC7063'\n",
    "sns.countplot(x=df['Harvest'], palette=[green, red])"
   ]
  },
  {
   "cell_type": "code",
   "execution_count": 7,
   "metadata": {
    "execution": {
     "iopub.execute_input": "2023-11-15T12:49:20.513396Z",
     "iopub.status.busy": "2023-11-15T12:49:20.512974Z",
     "iopub.status.idle": "2023-11-15T12:49:20.541078Z",
     "shell.execute_reply": "2023-11-15T12:49:20.540123Z",
     "shell.execute_reply.started": "2023-11-15T12:49:20.513361Z"
    }
   },
   "outputs": [],
   "source": [
    "df['Alive'] = df['Alive'].replace('X', 1)\n",
    "df['Harvest'] = df['Harvest'].replace('X', 1)\n",
    "\n",
    "label = preprocessing.LabelEncoder()\n",
    "for column in df.columns:\n",
    "    df[column] = label.fit_transform(df[column])"
   ]
  },
  {
   "cell_type": "code",
   "execution_count": 8,
   "metadata": {
    "execution": {
     "iopub.execute_input": "2023-11-15T12:49:20.543564Z",
     "iopub.status.busy": "2023-11-15T12:49:20.542768Z",
     "iopub.status.idle": "2023-11-15T12:49:20.572802Z",
     "shell.execute_reply": "2023-11-15T12:49:20.571544Z",
     "shell.execute_reply.started": "2023-11-15T12:49:20.543521Z"
    }
   },
   "outputs": [
    {
     "data": {
      "text/html": [
       "<div>\n",
       "<style scoped>\n",
       "    .dataframe tbody tr th:only-of-type {\n",
       "        vertical-align: middle;\n",
       "    }\n",
       "\n",
       "    .dataframe tbody tr th {\n",
       "        vertical-align: top;\n",
       "    }\n",
       "\n",
       "    .dataframe thead th {\n",
       "        text-align: right;\n",
       "    }\n",
       "</style>\n",
       "<table border=\"1\" class=\"dataframe\">\n",
       "  <thead>\n",
       "    <tr style=\"text-align: right;\">\n",
       "      <th></th>\n",
       "      <th>No</th>\n",
       "      <th>Plot</th>\n",
       "      <th>Subplot</th>\n",
       "      <th>Species</th>\n",
       "      <th>Light_ISF</th>\n",
       "      <th>Light_Cat</th>\n",
       "      <th>Core</th>\n",
       "      <th>Soil</th>\n",
       "      <th>Adult</th>\n",
       "      <th>Sterile</th>\n",
       "      <th>...</th>\n",
       "      <th>AMF</th>\n",
       "      <th>EMF</th>\n",
       "      <th>Phenolics</th>\n",
       "      <th>Lignin</th>\n",
       "      <th>NSC</th>\n",
       "      <th>Census</th>\n",
       "      <th>Time</th>\n",
       "      <th>Event</th>\n",
       "      <th>Harvest</th>\n",
       "      <th>Alive</th>\n",
       "    </tr>\n",
       "  </thead>\n",
       "  <tbody>\n",
       "    <tr>\n",
       "      <th>0</th>\n",
       "      <td>50</td>\n",
       "      <td>0</td>\n",
       "      <td>2</td>\n",
       "      <td>0</td>\n",
       "      <td>40</td>\n",
       "      <td>2</td>\n",
       "      <td>1</td>\n",
       "      <td>3</td>\n",
       "      <td>34</td>\n",
       "      <td>0</td>\n",
       "      <td>...</td>\n",
       "      <td>549</td>\n",
       "      <td>0</td>\n",
       "      <td>27</td>\n",
       "      <td>433</td>\n",
       "      <td>306</td>\n",
       "      <td>0</td>\n",
       "      <td>0</td>\n",
       "      <td>1</td>\n",
       "      <td>0</td>\n",
       "      <td>0</td>\n",
       "    </tr>\n",
       "    <tr>\n",
       "      <th>1</th>\n",
       "      <td>1</td>\n",
       "      <td>0</td>\n",
       "      <td>2</td>\n",
       "      <td>2</td>\n",
       "      <td>40</td>\n",
       "      <td>2</td>\n",
       "      <td>1</td>\n",
       "      <td>5</td>\n",
       "      <td>30</td>\n",
       "      <td>0</td>\n",
       "      <td>...</td>\n",
       "      <td>281</td>\n",
       "      <td>399</td>\n",
       "      <td>457</td>\n",
       "      <td>681</td>\n",
       "      <td>776</td>\n",
       "      <td>21</td>\n",
       "      <td>21</td>\n",
       "      <td>0</td>\n",
       "      <td>0</td>\n",
       "      <td>1</td>\n",
       "    </tr>\n",
       "    <tr>\n",
       "      <th>2</th>\n",
       "      <td>2</td>\n",
       "      <td>0</td>\n",
       "      <td>2</td>\n",
       "      <td>3</td>\n",
       "      <td>40</td>\n",
       "      <td>2</td>\n",
       "      <td>1</td>\n",
       "      <td>3</td>\n",
       "      <td>35</td>\n",
       "      <td>0</td>\n",
       "      <td>...</td>\n",
       "      <td>627</td>\n",
       "      <td>331</td>\n",
       "      <td>283</td>\n",
       "      <td>899</td>\n",
       "      <td>522</td>\n",
       "      <td>12</td>\n",
       "      <td>12</td>\n",
       "      <td>1</td>\n",
       "      <td>0</td>\n",
       "      <td>0</td>\n",
       "    </tr>\n",
       "    <tr>\n",
       "      <th>3</th>\n",
       "      <td>1002</td>\n",
       "      <td>6</td>\n",
       "      <td>3</td>\n",
       "      <td>0</td>\n",
       "      <td>24</td>\n",
       "      <td>2</td>\n",
       "      <td>0</td>\n",
       "      <td>3</td>\n",
       "      <td>35</td>\n",
       "      <td>0</td>\n",
       "      <td>...</td>\n",
       "      <td>560</td>\n",
       "      <td>0</td>\n",
       "      <td>13</td>\n",
       "      <td>467</td>\n",
       "      <td>326</td>\n",
       "      <td>0</td>\n",
       "      <td>0</td>\n",
       "      <td>1</td>\n",
       "      <td>0</td>\n",
       "      <td>0</td>\n",
       "    </tr>\n",
       "    <tr>\n",
       "      <th>4</th>\n",
       "      <td>2022</td>\n",
       "      <td>13</td>\n",
       "      <td>0</td>\n",
       "      <td>0</td>\n",
       "      <td>9</td>\n",
       "      <td>1</td>\n",
       "      <td>1</td>\n",
       "      <td>3</td>\n",
       "      <td>26</td>\n",
       "      <td>0</td>\n",
       "      <td>...</td>\n",
       "      <td>525</td>\n",
       "      <td>0</td>\n",
       "      <td>25</td>\n",
       "      <td>309</td>\n",
       "      <td>216</td>\n",
       "      <td>0</td>\n",
       "      <td>0</td>\n",
       "      <td>1</td>\n",
       "      <td>0</td>\n",
       "      <td>0</td>\n",
       "    </tr>\n",
       "    <tr>\n",
       "      <th>...</th>\n",
       "      <td>...</td>\n",
       "      <td>...</td>\n",
       "      <td>...</td>\n",
       "      <td>...</td>\n",
       "      <td>...</td>\n",
       "      <td>...</td>\n",
       "      <td>...</td>\n",
       "      <td>...</td>\n",
       "      <td>...</td>\n",
       "      <td>...</td>\n",
       "      <td>...</td>\n",
       "      <td>...</td>\n",
       "      <td>...</td>\n",
       "      <td>...</td>\n",
       "      <td>...</td>\n",
       "      <td>...</td>\n",
       "      <td>...</td>\n",
       "      <td>...</td>\n",
       "      <td>...</td>\n",
       "      <td>...</td>\n",
       "      <td>...</td>\n",
       "    </tr>\n",
       "    <tr>\n",
       "      <th>2778</th>\n",
       "      <td>2549</td>\n",
       "      <td>16</td>\n",
       "      <td>1</td>\n",
       "      <td>1</td>\n",
       "      <td>44</td>\n",
       "      <td>2</td>\n",
       "      <td>1</td>\n",
       "      <td>2</td>\n",
       "      <td>27</td>\n",
       "      <td>0</td>\n",
       "      <td>...</td>\n",
       "      <td>835</td>\n",
       "      <td>0</td>\n",
       "      <td>156</td>\n",
       "      <td>192</td>\n",
       "      <td>281</td>\n",
       "      <td>10</td>\n",
       "      <td>10</td>\n",
       "      <td>1</td>\n",
       "      <td>0</td>\n",
       "      <td>0</td>\n",
       "    </tr>\n",
       "    <tr>\n",
       "      <th>2779</th>\n",
       "      <td>2566</td>\n",
       "      <td>16</td>\n",
       "      <td>3</td>\n",
       "      <td>2</td>\n",
       "      <td>45</td>\n",
       "      <td>2</td>\n",
       "      <td>1</td>\n",
       "      <td>0</td>\n",
       "      <td>13</td>\n",
       "      <td>0</td>\n",
       "      <td>...</td>\n",
       "      <td>266</td>\n",
       "      <td>440</td>\n",
       "      <td>429</td>\n",
       "      <td>577</td>\n",
       "      <td>959</td>\n",
       "      <td>10</td>\n",
       "      <td>10</td>\n",
       "      <td>1</td>\n",
       "      <td>0</td>\n",
       "      <td>0</td>\n",
       "    </tr>\n",
       "    <tr>\n",
       "      <th>2780</th>\n",
       "      <td>2603</td>\n",
       "      <td>16</td>\n",
       "      <td>3</td>\n",
       "      <td>2</td>\n",
       "      <td>45</td>\n",
       "      <td>2</td>\n",
       "      <td>1</td>\n",
       "      <td>5</td>\n",
       "      <td>12</td>\n",
       "      <td>0</td>\n",
       "      <td>...</td>\n",
       "      <td>135</td>\n",
       "      <td>517</td>\n",
       "      <td>477</td>\n",
       "      <td>722</td>\n",
       "      <td>765</td>\n",
       "      <td>10</td>\n",
       "      <td>10</td>\n",
       "      <td>1</td>\n",
       "      <td>0</td>\n",
       "      <td>0</td>\n",
       "    </tr>\n",
       "    <tr>\n",
       "      <th>2781</th>\n",
       "      <td>2781</td>\n",
       "      <td>17</td>\n",
       "      <td>3</td>\n",
       "      <td>2</td>\n",
       "      <td>52</td>\n",
       "      <td>0</td>\n",
       "      <td>1</td>\n",
       "      <td>6</td>\n",
       "      <td>4</td>\n",
       "      <td>1</td>\n",
       "      <td>...</td>\n",
       "      <td>341</td>\n",
       "      <td>221</td>\n",
       "      <td>369</td>\n",
       "      <td>607</td>\n",
       "      <td>862</td>\n",
       "      <td>21</td>\n",
       "      <td>21</td>\n",
       "      <td>0</td>\n",
       "      <td>0</td>\n",
       "      <td>0</td>\n",
       "    </tr>\n",
       "    <tr>\n",
       "      <th>2782</th>\n",
       "      <td>2639</td>\n",
       "      <td>17</td>\n",
       "      <td>0</td>\n",
       "      <td>1</td>\n",
       "      <td>50</td>\n",
       "      <td>0</td>\n",
       "      <td>0</td>\n",
       "      <td>2</td>\n",
       "      <td>1</td>\n",
       "      <td>0</td>\n",
       "      <td>...</td>\n",
       "      <td>904</td>\n",
       "      <td>0</td>\n",
       "      <td>170</td>\n",
       "      <td>186</td>\n",
       "      <td>275</td>\n",
       "      <td>10</td>\n",
       "      <td>10</td>\n",
       "      <td>1</td>\n",
       "      <td>0</td>\n",
       "      <td>0</td>\n",
       "    </tr>\n",
       "  </tbody>\n",
       "</table>\n",
       "<p>2783 rows × 24 columns</p>\n",
       "</div>"
      ],
      "text/plain": [
       "        No  Plot  Subplot  Species  Light_ISF  Light_Cat  Core  Soil  Adult  \\\n",
       "0       50     0        2        0         40          2     1     3     34   \n",
       "1        1     0        2        2         40          2     1     5     30   \n",
       "2        2     0        2        3         40          2     1     3     35   \n",
       "3     1002     6        3        0         24          2     0     3     35   \n",
       "4     2022    13        0        0          9          1     1     3     26   \n",
       "...    ...   ...      ...      ...        ...        ...   ...   ...    ...   \n",
       "2778  2549    16        1        1         44          2     1     2     27   \n",
       "2779  2566    16        3        2         45          2     1     0     13   \n",
       "2780  2603    16        3        2         45          2     1     5     12   \n",
       "2781  2781    17        3        2         52          0     1     6      4   \n",
       "2782  2639    17        0        1         50          0     0     2      1   \n",
       "\n",
       "      Sterile  ...  AMF  EMF  Phenolics  Lignin  NSC  Census  Time  Event  \\\n",
       "0           0  ...  549    0         27     433  306       0     0      1   \n",
       "1           0  ...  281  399        457     681  776      21    21      0   \n",
       "2           0  ...  627  331        283     899  522      12    12      1   \n",
       "3           0  ...  560    0         13     467  326       0     0      1   \n",
       "4           0  ...  525    0         25     309  216       0     0      1   \n",
       "...       ...  ...  ...  ...        ...     ...  ...     ...   ...    ...   \n",
       "2778        0  ...  835    0        156     192  281      10    10      1   \n",
       "2779        0  ...  266  440        429     577  959      10    10      1   \n",
       "2780        0  ...  135  517        477     722  765      10    10      1   \n",
       "2781        1  ...  341  221        369     607  862      21    21      0   \n",
       "2782        0  ...  904    0        170     186  275      10    10      1   \n",
       "\n",
       "      Harvest  Alive  \n",
       "0           0      0  \n",
       "1           0      1  \n",
       "2           0      0  \n",
       "3           0      0  \n",
       "4           0      0  \n",
       "...       ...    ...  \n",
       "2778        0      0  \n",
       "2779        0      0  \n",
       "2780        0      0  \n",
       "2781        0      0  \n",
       "2782        0      0  \n",
       "\n",
       "[2783 rows x 24 columns]"
      ]
     },
     "execution_count": 8,
     "metadata": {},
     "output_type": "execute_result"
    }
   ],
   "source": [
    "df"
   ]
  },
  {
   "cell_type": "markdown",
   "metadata": {},
   "source": [
    "# Modeling"
   ]
  },
  {
   "cell_type": "code",
   "execution_count": 9,
   "metadata": {
    "execution": {
     "iopub.execute_input": "2023-11-15T12:49:20.575436Z",
     "iopub.status.busy": "2023-11-15T12:49:20.574917Z",
     "iopub.status.idle": "2023-11-15T12:49:20.592923Z",
     "shell.execute_reply": "2023-11-15T12:49:20.591723Z",
     "shell.execute_reply.started": "2023-11-15T12:49:20.575392Z"
    }
   },
   "outputs": [
    {
     "name": "stdout",
     "output_type": "stream",
     "text": [
      "Shape of train (2226, 22)\n",
      "Shape of Validation  (557, 22)\n"
     ]
    }
   ],
   "source": [
    "the_first_target = df['Harvest']\n",
    "the_second_target = df['Alive']\n",
    "\n",
    "df = df.drop(columns=['Harvest','Alive'])\n",
    "\n",
    "X_train_first, x_val_first, y_train_first, y_val_first = train_test_split(df, the_first_target, test_size=0.2, random_state=64)\n",
    "print('Shape of train', X_train_first.shape)\n",
    "print('Shape of Validation ', x_val_first.shape)"
   ]
  },
  {
   "cell_type": "code",
   "execution_count": 10,
   "metadata": {
    "execution": {
     "iopub.execute_input": "2023-11-15T12:49:20.600792Z",
     "iopub.status.busy": "2023-11-15T12:49:20.597967Z",
     "iopub.status.idle": "2023-11-15T12:49:20.614323Z",
     "shell.execute_reply": "2023-11-15T12:49:20.612872Z",
     "shell.execute_reply.started": "2023-11-15T12:49:20.60075Z"
    }
   },
   "outputs": [
    {
     "name": "stdout",
     "output_type": "stream",
     "text": [
      "Shape of train (2226, 22)\n",
      "Shape of Validation  (2226,)\n"
     ]
    }
   ],
   "source": [
    "X_train_second, x_val_second, y_train_second, y_val_second = train_test_split(df, the_first_target, test_size=0.2, random_state=64)\n",
    "print('Shape of train', X_train_second.shape)\n",
    "print('Shape of Validation ', y_train_second.shape)"
   ]
  },
  {
   "cell_type": "code",
   "execution_count": 11,
   "metadata": {
    "execution": {
     "iopub.execute_input": "2023-11-15T12:49:20.617164Z",
     "iopub.status.busy": "2023-11-15T12:49:20.616332Z",
     "iopub.status.idle": "2023-11-15T12:49:20.625647Z",
     "shell.execute_reply": "2023-11-15T12:49:20.624422Z",
     "shell.execute_reply.started": "2023-11-15T12:49:20.617117Z"
    }
   },
   "outputs": [],
   "source": [
    "the_first_rfc = RandomForestClassifier(criterion='entropy', n_estimators=20000)"
   ]
  },
  {
   "cell_type": "code",
   "execution_count": 12,
   "metadata": {
    "execution": {
     "iopub.execute_input": "2023-11-15T12:49:20.628821Z",
     "iopub.status.busy": "2023-11-15T12:49:20.628295Z",
     "iopub.status.idle": "2023-11-15T12:50:20.605061Z",
     "shell.execute_reply": "2023-11-15T12:50:20.60387Z",
     "shell.execute_reply.started": "2023-11-15T12:49:20.628776Z"
    }
   },
   "outputs": [
    {
     "data": {
      "text/html": [
       "<style>#sk-container-id-1 {color: black;}#sk-container-id-1 pre{padding: 0;}#sk-container-id-1 div.sk-toggleable {background-color: white;}#sk-container-id-1 label.sk-toggleable__label {cursor: pointer;display: block;width: 100%;margin-bottom: 0;padding: 0.3em;box-sizing: border-box;text-align: center;}#sk-container-id-1 label.sk-toggleable__label-arrow:before {content: \"▸\";float: left;margin-right: 0.25em;color: #696969;}#sk-container-id-1 label.sk-toggleable__label-arrow:hover:before {color: black;}#sk-container-id-1 div.sk-estimator:hover label.sk-toggleable__label-arrow:before {color: black;}#sk-container-id-1 div.sk-toggleable__content {max-height: 0;max-width: 0;overflow: hidden;text-align: left;background-color: #f0f8ff;}#sk-container-id-1 div.sk-toggleable__content pre {margin: 0.2em;color: black;border-radius: 0.25em;background-color: #f0f8ff;}#sk-container-id-1 input.sk-toggleable__control:checked~div.sk-toggleable__content {max-height: 200px;max-width: 100%;overflow: auto;}#sk-container-id-1 input.sk-toggleable__control:checked~label.sk-toggleable__label-arrow:before {content: \"▾\";}#sk-container-id-1 div.sk-estimator input.sk-toggleable__control:checked~label.sk-toggleable__label {background-color: #d4ebff;}#sk-container-id-1 div.sk-label input.sk-toggleable__control:checked~label.sk-toggleable__label {background-color: #d4ebff;}#sk-container-id-1 input.sk-hidden--visually {border: 0;clip: rect(1px 1px 1px 1px);clip: rect(1px, 1px, 1px, 1px);height: 1px;margin: -1px;overflow: hidden;padding: 0;position: absolute;width: 1px;}#sk-container-id-1 div.sk-estimator {font-family: monospace;background-color: #f0f8ff;border: 1px dotted black;border-radius: 0.25em;box-sizing: border-box;margin-bottom: 0.5em;}#sk-container-id-1 div.sk-estimator:hover {background-color: #d4ebff;}#sk-container-id-1 div.sk-parallel-item::after {content: \"\";width: 100%;border-bottom: 1px solid gray;flex-grow: 1;}#sk-container-id-1 div.sk-label:hover label.sk-toggleable__label {background-color: #d4ebff;}#sk-container-id-1 div.sk-serial::before {content: \"\";position: absolute;border-left: 1px solid gray;box-sizing: border-box;top: 0;bottom: 0;left: 50%;z-index: 0;}#sk-container-id-1 div.sk-serial {display: flex;flex-direction: column;align-items: center;background-color: white;padding-right: 0.2em;padding-left: 0.2em;position: relative;}#sk-container-id-1 div.sk-item {position: relative;z-index: 1;}#sk-container-id-1 div.sk-parallel {display: flex;align-items: stretch;justify-content: center;background-color: white;position: relative;}#sk-container-id-1 div.sk-item::before, #sk-container-id-1 div.sk-parallel-item::before {content: \"\";position: absolute;border-left: 1px solid gray;box-sizing: border-box;top: 0;bottom: 0;left: 50%;z-index: -1;}#sk-container-id-1 div.sk-parallel-item {display: flex;flex-direction: column;z-index: 1;position: relative;background-color: white;}#sk-container-id-1 div.sk-parallel-item:first-child::after {align-self: flex-end;width: 50%;}#sk-container-id-1 div.sk-parallel-item:last-child::after {align-self: flex-start;width: 50%;}#sk-container-id-1 div.sk-parallel-item:only-child::after {width: 0;}#sk-container-id-1 div.sk-dashed-wrapped {border: 1px dashed gray;margin: 0 0.4em 0.5em 0.4em;box-sizing: border-box;padding-bottom: 0.4em;background-color: white;}#sk-container-id-1 div.sk-label label {font-family: monospace;font-weight: bold;display: inline-block;line-height: 1.2em;}#sk-container-id-1 div.sk-label-container {text-align: center;}#sk-container-id-1 div.sk-container {/* jupyter's `normalize.less` sets `[hidden] { display: none; }` but bootstrap.min.css set `[hidden] { display: none !important; }` so we also need the `!important` here to be able to override the default hidden behavior on the sphinx rendered scikit-learn.org. See: https://github.com/scikit-learn/scikit-learn/issues/21755 */display: inline-block !important;position: relative;}#sk-container-id-1 div.sk-text-repr-fallback {display: none;}</style><div id=\"sk-container-id-1\" class=\"sk-top-container\"><div class=\"sk-text-repr-fallback\"><pre>RandomForestClassifier(criterion=&#x27;entropy&#x27;, n_estimators=20000)</pre><b>In a Jupyter environment, please rerun this cell to show the HTML representation or trust the notebook. <br />On GitHub, the HTML representation is unable to render, please try loading this page with nbviewer.org.</b></div><div class=\"sk-container\" hidden><div class=\"sk-item\"><div class=\"sk-estimator sk-toggleable\"><input class=\"sk-toggleable__control sk-hidden--visually\" id=\"sk-estimator-id-1\" type=\"checkbox\" checked><label for=\"sk-estimator-id-1\" class=\"sk-toggleable__label sk-toggleable__label-arrow\">RandomForestClassifier</label><div class=\"sk-toggleable__content\"><pre>RandomForestClassifier(criterion=&#x27;entropy&#x27;, n_estimators=20000)</pre></div></div></div></div></div>"
      ],
      "text/plain": [
       "RandomForestClassifier(criterion='entropy', n_estimators=20000)"
      ]
     },
     "execution_count": 12,
     "metadata": {},
     "output_type": "execute_result"
    }
   ],
   "source": [
    "the_first_rfc.fit(X_train_first, y_train_first)"
   ]
  },
  {
   "cell_type": "code",
   "execution_count": 13,
   "metadata": {
    "execution": {
     "iopub.execute_input": "2023-11-15T12:50:20.6069Z",
     "iopub.status.busy": "2023-11-15T12:50:20.606425Z",
     "iopub.status.idle": "2023-11-15T12:50:22.026428Z",
     "shell.execute_reply": "2023-11-15T12:50:22.025215Z",
     "shell.execute_reply.started": "2023-11-15T12:50:20.60687Z"
    }
   },
   "outputs": [],
   "source": [
    "filemodelname = 'the_first_rfc'\n",
    "\n",
    "with open(filemodelname, 'wb') as handle:\n",
    "          p.dump(the_first_rfc, handle, protocol=p.HIGHEST_PROTOCOL)"
   ]
  },
  {
   "cell_type": "code",
   "execution_count": 14,
   "metadata": {
    "execution": {
     "iopub.execute_input": "2023-11-15T12:50:22.037431Z",
     "iopub.status.busy": "2023-11-15T12:50:22.036925Z",
     "iopub.status.idle": "2023-11-15T12:50:22.043669Z",
     "shell.execute_reply": "2023-11-15T12:50:22.042332Z",
     "shell.execute_reply.started": "2023-11-15T12:50:22.037391Z"
    }
   },
   "outputs": [],
   "source": [
    "the_second_rfc = RandomForestClassifier(criterion='entropy', n_estimators=20000)"
   ]
  },
  {
   "cell_type": "code",
   "execution_count": 15,
   "metadata": {
    "execution": {
     "iopub.execute_input": "2023-11-15T12:50:22.046606Z",
     "iopub.status.busy": "2023-11-15T12:50:22.045361Z",
     "iopub.status.idle": "2023-11-15T12:51:21.90704Z",
     "shell.execute_reply": "2023-11-15T12:51:21.905793Z",
     "shell.execute_reply.started": "2023-11-15T12:50:22.046556Z"
    }
   },
   "outputs": [
    {
     "data": {
      "text/html": [
       "<style>#sk-container-id-2 {color: black;}#sk-container-id-2 pre{padding: 0;}#sk-container-id-2 div.sk-toggleable {background-color: white;}#sk-container-id-2 label.sk-toggleable__label {cursor: pointer;display: block;width: 100%;margin-bottom: 0;padding: 0.3em;box-sizing: border-box;text-align: center;}#sk-container-id-2 label.sk-toggleable__label-arrow:before {content: \"▸\";float: left;margin-right: 0.25em;color: #696969;}#sk-container-id-2 label.sk-toggleable__label-arrow:hover:before {color: black;}#sk-container-id-2 div.sk-estimator:hover label.sk-toggleable__label-arrow:before {color: black;}#sk-container-id-2 div.sk-toggleable__content {max-height: 0;max-width: 0;overflow: hidden;text-align: left;background-color: #f0f8ff;}#sk-container-id-2 div.sk-toggleable__content pre {margin: 0.2em;color: black;border-radius: 0.25em;background-color: #f0f8ff;}#sk-container-id-2 input.sk-toggleable__control:checked~div.sk-toggleable__content {max-height: 200px;max-width: 100%;overflow: auto;}#sk-container-id-2 input.sk-toggleable__control:checked~label.sk-toggleable__label-arrow:before {content: \"▾\";}#sk-container-id-2 div.sk-estimator input.sk-toggleable__control:checked~label.sk-toggleable__label {background-color: #d4ebff;}#sk-container-id-2 div.sk-label input.sk-toggleable__control:checked~label.sk-toggleable__label {background-color: #d4ebff;}#sk-container-id-2 input.sk-hidden--visually {border: 0;clip: rect(1px 1px 1px 1px);clip: rect(1px, 1px, 1px, 1px);height: 1px;margin: -1px;overflow: hidden;padding: 0;position: absolute;width: 1px;}#sk-container-id-2 div.sk-estimator {font-family: monospace;background-color: #f0f8ff;border: 1px dotted black;border-radius: 0.25em;box-sizing: border-box;margin-bottom: 0.5em;}#sk-container-id-2 div.sk-estimator:hover {background-color: #d4ebff;}#sk-container-id-2 div.sk-parallel-item::after {content: \"\";width: 100%;border-bottom: 1px solid gray;flex-grow: 1;}#sk-container-id-2 div.sk-label:hover label.sk-toggleable__label {background-color: #d4ebff;}#sk-container-id-2 div.sk-serial::before {content: \"\";position: absolute;border-left: 1px solid gray;box-sizing: border-box;top: 0;bottom: 0;left: 50%;z-index: 0;}#sk-container-id-2 div.sk-serial {display: flex;flex-direction: column;align-items: center;background-color: white;padding-right: 0.2em;padding-left: 0.2em;position: relative;}#sk-container-id-2 div.sk-item {position: relative;z-index: 1;}#sk-container-id-2 div.sk-parallel {display: flex;align-items: stretch;justify-content: center;background-color: white;position: relative;}#sk-container-id-2 div.sk-item::before, #sk-container-id-2 div.sk-parallel-item::before {content: \"\";position: absolute;border-left: 1px solid gray;box-sizing: border-box;top: 0;bottom: 0;left: 50%;z-index: -1;}#sk-container-id-2 div.sk-parallel-item {display: flex;flex-direction: column;z-index: 1;position: relative;background-color: white;}#sk-container-id-2 div.sk-parallel-item:first-child::after {align-self: flex-end;width: 50%;}#sk-container-id-2 div.sk-parallel-item:last-child::after {align-self: flex-start;width: 50%;}#sk-container-id-2 div.sk-parallel-item:only-child::after {width: 0;}#sk-container-id-2 div.sk-dashed-wrapped {border: 1px dashed gray;margin: 0 0.4em 0.5em 0.4em;box-sizing: border-box;padding-bottom: 0.4em;background-color: white;}#sk-container-id-2 div.sk-label label {font-family: monospace;font-weight: bold;display: inline-block;line-height: 1.2em;}#sk-container-id-2 div.sk-label-container {text-align: center;}#sk-container-id-2 div.sk-container {/* jupyter's `normalize.less` sets `[hidden] { display: none; }` but bootstrap.min.css set `[hidden] { display: none !important; }` so we also need the `!important` here to be able to override the default hidden behavior on the sphinx rendered scikit-learn.org. See: https://github.com/scikit-learn/scikit-learn/issues/21755 */display: inline-block !important;position: relative;}#sk-container-id-2 div.sk-text-repr-fallback {display: none;}</style><div id=\"sk-container-id-2\" class=\"sk-top-container\"><div class=\"sk-text-repr-fallback\"><pre>RandomForestClassifier(criterion=&#x27;entropy&#x27;, n_estimators=20000)</pre><b>In a Jupyter environment, please rerun this cell to show the HTML representation or trust the notebook. <br />On GitHub, the HTML representation is unable to render, please try loading this page with nbviewer.org.</b></div><div class=\"sk-container\" hidden><div class=\"sk-item\"><div class=\"sk-estimator sk-toggleable\"><input class=\"sk-toggleable__control sk-hidden--visually\" id=\"sk-estimator-id-2\" type=\"checkbox\" checked><label for=\"sk-estimator-id-2\" class=\"sk-toggleable__label sk-toggleable__label-arrow\">RandomForestClassifier</label><div class=\"sk-toggleable__content\"><pre>RandomForestClassifier(criterion=&#x27;entropy&#x27;, n_estimators=20000)</pre></div></div></div></div></div>"
      ],
      "text/plain": [
       "RandomForestClassifier(criterion='entropy', n_estimators=20000)"
      ]
     },
     "execution_count": 15,
     "metadata": {},
     "output_type": "execute_result"
    }
   ],
   "source": [
    "the_second_rfc.fit(X_train_second, y_train_first)"
   ]
  },
  {
   "cell_type": "code",
   "execution_count": 16,
   "metadata": {
    "execution": {
     "iopub.execute_input": "2023-11-15T12:51:21.909058Z",
     "iopub.status.busy": "2023-11-15T12:51:21.908591Z",
     "iopub.status.idle": "2023-11-15T12:51:23.279838Z",
     "shell.execute_reply": "2023-11-15T12:51:23.278536Z",
     "shell.execute_reply.started": "2023-11-15T12:51:21.909026Z"
    }
   },
   "outputs": [],
   "source": [
    "filemodelname = 'the_second_rfc'\n",
    "\n",
    "with open(filemodelname, 'wb') as handle:\n",
    "          p.dump(the_first_rfc, handle, protocol=p.HIGHEST_PROTOCOL)"
   ]
  },
  {
   "cell_type": "markdown",
   "metadata": {},
   "source": [
    "# Result's wathing"
   ]
  },
  {
   "cell_type": "code",
   "execution_count": 17,
   "metadata": {
    "execution": {
     "iopub.execute_input": "2023-11-15T12:51:23.282439Z",
     "iopub.status.busy": "2023-11-15T12:51:23.281592Z",
     "iopub.status.idle": "2023-11-15T12:51:23.288498Z",
     "shell.execute_reply": "2023-11-15T12:51:23.287425Z",
     "shell.execute_reply.started": "2023-11-15T12:51:23.282402Z"
    }
   },
   "outputs": [],
   "source": [
    "def predict(inpt, model):\n",
    "    try:\n",
    "        with open(model, 'rb') as handle:\n",
    "            model = p.load(handle)\n",
    "        inn = []            \n",
    "        val_pred = model.predict(inpt)\n",
    "        return val_pred\n",
    "    \n",
    "    except:\n",
    "        return 'The exeption is in RandomForest.predict'"
   ]
  },
  {
   "cell_type": "code",
   "execution_count": 18,
   "metadata": {
    "execution": {
     "iopub.execute_input": "2023-11-15T12:51:23.290143Z",
     "iopub.status.busy": "2023-11-15T12:51:23.28973Z",
     "iopub.status.idle": "2023-11-15T12:51:23.300839Z",
     "shell.execute_reply": "2023-11-15T12:51:23.299566Z",
     "shell.execute_reply.started": "2023-11-15T12:51:23.29011Z"
    }
   },
   "outputs": [],
   "source": [
    "y_val_first = y_val_first.to_list()\n",
    "y_val_second = y_val_second.to_list()"
   ]
  },
  {
   "cell_type": "code",
   "execution_count": 21,
   "metadata": {
    "execution": {
     "iopub.execute_input": "2023-11-15T12:51:23.302486Z",
     "iopub.status.busy": "2023-11-15T12:51:23.302128Z",
     "iopub.status.idle": "2023-11-15T12:51:29.36401Z",
     "shell.execute_reply": "2023-11-15T12:51:29.362803Z",
     "shell.execute_reply.started": "2023-11-15T12:51:23.302457Z"
    }
   },
   "outputs": [],
   "source": [
    "inpt = x_val_first\n",
    "the_first_res = predict(inpt, 'the_first_rfc')\n",
    "inpt = x_val_second\n",
    "the_second_res = predict(inpt, 'the_second_rfc')"
   ]
  },
  {
   "cell_type": "code",
   "execution_count": 22,
   "metadata": {
    "execution": {
     "iopub.execute_input": "2023-11-15T12:51:29.365799Z",
     "iopub.status.busy": "2023-11-15T12:51:29.365442Z",
     "iopub.status.idle": "2023-11-15T12:51:29.375225Z",
     "shell.execute_reply": "2023-11-15T12:51:29.374087Z",
     "shell.execute_reply.started": "2023-11-15T12:51:29.365772Z"
    }
   },
   "outputs": [
    {
     "data": {
      "text/plain": [
       "1.0"
      ]
     },
     "execution_count": 22,
     "metadata": {},
     "output_type": "execute_result"
    }
   ],
   "source": [
    "accuracy_el = []\n",
    "for i in range(0, len(y_val_first)):\n",
    "    accuracy_el.append(y_val_first[i] - the_first_res[i])\n",
    "accuracy_first = accuracy_el.count(0) / len(y_val_first)\n",
    "accuracy_first"
   ]
  },
  {
   "cell_type": "code",
   "execution_count": 23,
   "metadata": {
    "execution": {
     "iopub.execute_input": "2023-11-15T12:51:29.377602Z",
     "iopub.status.busy": "2023-11-15T12:51:29.377012Z",
     "iopub.status.idle": "2023-11-15T12:51:29.387165Z",
     "shell.execute_reply": "2023-11-15T12:51:29.385916Z",
     "shell.execute_reply.started": "2023-11-15T12:51:29.377571Z"
    }
   },
   "outputs": [
    {
     "data": {
      "text/plain": [
       "1.0"
      ]
     },
     "execution_count": 23,
     "metadata": {},
     "output_type": "execute_result"
    }
   ],
   "source": [
    "accuracy_el = []\n",
    "for i in range(0, len(y_val_first)):\n",
    "    accuracy_el.append(y_val_second[i] - the_second_res[i])\n",
    "accuracy_second = accuracy_el.count(0) / len(y_val_second)\n",
    "accuracy_second"
   ]
  }
 ],
 "metadata": {
  "kaggle": {
   "accelerator": "none",
   "dataSources": [
    {
     "datasetId": 3973968,
     "sourceId": 6920778,
     "sourceType": "datasetVersion"
    }
   ],
   "dockerImageVersionId": 30579,
   "isGpuEnabled": false,
   "isInternetEnabled": false,
   "language": "python",
   "sourceType": "notebook"
  },
  "kernelspec": {
   "display_name": "Python 3 (ipykernel)",
   "language": "python",
   "name": "python3"
  },
  "language_info": {
   "codemirror_mode": {
    "name": "ipython",
    "version": 3
   },
   "file_extension": ".py",
   "mimetype": "text/x-python",
   "name": "python",
   "nbconvert_exporter": "python",
   "pygments_lexer": "ipython3",
   "version": "3.11.5"
  }
 },
 "nbformat": 4,
 "nbformat_minor": 4
}
